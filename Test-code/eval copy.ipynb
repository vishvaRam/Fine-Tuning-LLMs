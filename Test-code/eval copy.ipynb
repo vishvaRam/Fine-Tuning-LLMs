{
 "cells": [
  {
   "cell_type": "code",
   "execution_count": null,
   "id": "e8d74a5b",
   "metadata": {},
   "outputs": [],
   "source": [
    "import json\n",
    "import outlines\n",
    "import torch\n",
    "from typing import List, Optional\n",
    "from pydantic import BaseModel, Field\n",
    "from dotenv import load_dotenv\n",
    "from datasets import load_dataset\n",
    "from rich import print\n",
    "import os\n",
    "os.environ[\"TRANSFORMERS_VERBOSITY\"] = \"info\"\n",
    "load_dotenv()"
   ]
  },
  {
   "cell_type": "code",
   "execution_count": null,
   "id": "f9c5a942",
   "metadata": {},
   "outputs": [],
   "source": [
    "MODEL_NAME = os.getenv(\"MODEL_NAME\")\n",
    "MODEL_PATH = os.getenv(\"MODEL_PATH\")\n",
    "DATASET_NAME = os.getenv(\"DATASET_NAME\")\n",
    "SEED = int(os.getenv(\"SEED\"))"
   ]
  },
  {
   "cell_type": "code",
   "execution_count": null,
   "id": "552773ab",
   "metadata": {},
   "outputs": [],
   "source": [
    "print(f\"Loading dataset: {DATASET_NAME}\")\n",
    "print(f\"Using seed: {SEED}\")"
   ]
  },
  {
   "cell_type": "code",
   "execution_count": null,
   "id": "a8ac3510",
   "metadata": {},
   "outputs": [],
   "source": [
    "try:\n",
    "    dataset = load_dataset(DATASET_NAME)\n",
    "    print(\"Dataset loaded successfully!\")\n",
    "    print(dataset) # Print the dataset structure to see available splits\n",
    "except Exception as e:\n",
    "    print(f\"Error loading dataset: {e}\")\n",
    "    print(\"Please ensure the dataset name is correct and you have an active internet connection.\")\n"
   ]
  },
  {
   "cell_type": "code",
   "execution_count": null,
   "id": "556ea849",
   "metadata": {},
   "outputs": [],
   "source": [
    "full_dataset = dataset['train']\n",
    "eval_dataset = full_dataset[-50:]"
   ]
  },
  {
   "cell_type": "code",
   "execution_count": null,
   "id": "cec701e8",
   "metadata": {},
   "outputs": [],
   "source": [
    "class ResponseFormat(BaseModel):\n",
    "    answer : str"
   ]
  },
  {
   "cell_type": "code",
   "execution_count": null,
   "id": "ca6eabd7",
   "metadata": {},
   "outputs": [],
   "source": [
    "if torch.cuda.is_available():\n",
    "    print(\"GPU is Used!\")\n",
    "else:\n",
    "    print(\"CPU is Used!\")"
   ]
  },
  {
   "cell_type": "code",
   "execution_count": null,
   "id": "45898aa7",
   "metadata": {},
   "outputs": [],
   "source": [
    "model = outlines.models.transformers(MODEL_NAME,\n",
    "                                     device=\"cuda\",\n",
    "                                     model_kwargs={\"temperature\":0.7,\n",
    "                                                    \"top_k\":40,\n",
    "                                                    \"top_p\":0.95},)"
   ]
  },
  {
   "cell_type": "code",
   "execution_count": null,
   "id": "aa82e541",
   "metadata": {},
   "outputs": [],
   "source": [
    "inputs = eval_dataset['question'][:5]"
   ]
  },
  {
   "cell_type": "code",
   "execution_count": null,
   "id": "a2014b95",
   "metadata": {},
   "outputs": [],
   "source": [
    "schema_as_str = json.dumps(ResponseFormat.model_json_schema())\n",
    "generator = outlines.generate.json(model, schema_as_str)"
   ]
  },
  {
   "cell_type": "code",
   "execution_count": null,
   "id": "41e4678e",
   "metadata": {},
   "outputs": [],
   "source": [
    "output = generator(inputs)\n",
    "print(json.dumps(output,indent=4))"
   ]
  },
  {
   "cell_type": "code",
   "execution_count": null,
   "id": "414734d4",
   "metadata": {},
   "outputs": [],
   "source": [
    "for i, item in enumerate(output):\n",
    "    print(f\"Input: {inputs[i]}\")\n",
    "    print(f\"Output: {item['answer']}\")\n",
    "    print(\"-\" * 40)"
   ]
  },
  {
   "cell_type": "code",
   "execution_count": null,
   "id": "c6eb2018",
   "metadata": {},
   "outputs": [],
   "source": [
    "output[0]['answer']"
   ]
  },
  {
   "cell_type": "code",
   "execution_count": null,
   "id": "131eabd7",
   "metadata": {},
   "outputs": [],
   "source": [
    "print(eval_dataset['answer'][:5])"
   ]
  },
  {
   "cell_type": "code",
   "execution_count": null,
   "id": "d2b5ab34",
   "metadata": {},
   "outputs": [],
   "source": []
  },
  {
   "cell_type": "code",
   "execution_count": null,
   "id": "95df2f46",
   "metadata": {},
   "outputs": [],
   "source": []
  }
 ],
 "metadata": {
  "kernelspec": {
   "display_name": "Python 3",
   "language": "python",
   "name": "python3"
  },
  "language_info": {
   "codemirror_mode": {
    "name": "ipython",
    "version": 3
   },
   "file_extension": ".py",
   "mimetype": "text/x-python",
   "name": "python",
   "nbconvert_exporter": "python",
   "pygments_lexer": "ipython3",
   "version": "3.10.17"
  }
 },
 "nbformat": 4,
 "nbformat_minor": 5
}
