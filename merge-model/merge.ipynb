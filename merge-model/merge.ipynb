{
 "cells": [
  {
   "cell_type": "code",
   "execution_count": 12,
   "id": "aa69ce79",
   "metadata": {},
   "outputs": [
    {
     "data": {
      "text/plain": [
       "True"
      ]
     },
     "execution_count": 12,
     "metadata": {},
     "output_type": "execute_result"
    }
   ],
   "source": [
    "import torch\n",
    "from transformers import AutoModelForCausalLM, AutoTokenizer\n",
    "from peft import PeftModel, PeftConfig\n",
    "import os\n",
    "from dotenv import load_dotenv\n",
    "load_dotenv()"
   ]
  },
  {
   "cell_type": "code",
   "execution_count": 13,
   "id": "d5d1abc6",
   "metadata": {},
   "outputs": [],
   "source": [
    "MODEL_NAME = os.getenv(\"MODEL_NAME\")\n",
    "MODEL_PATH = os.getenv(\"MODEL_PATH\")\n",
    "MODEL_OUTPUT_DIR = os.getenv(\"MODEL_OUTPUT_DIR\")\n",
    "MODEL_ADOPTOR_REPO_ID = os.getenv(\"MODEL_ADOPTOR_REPO_ID\")\n",
    "MERGED_MODEL_OUTPUT_DIR = os.getenv(\"MERGED_MODEL_OUTPUT_DIR\")\n",
    "MODEL_FINETUNED_REPO_ID = os.getenv(\"MODEL_FINETUNED_REPO_ID\")"
   ]
  },
  {
   "cell_type": "code",
   "execution_count": 14,
   "id": "2a46a7ea",
   "metadata": {},
   "outputs": [
    {
     "data": {
      "application/vnd.jupyter.widget-view+json": {
       "model_id": "0786b10c5cff4096affa84c1429e86ba",
       "version_major": 2,
       "version_minor": 0
      },
      "text/plain": [
       "VBox(children=(HTML(value='<center> <img\\nsrc=https://huggingface.co/front/assets/huggingface_logo-noborder.sv…"
      ]
     },
     "metadata": {},
     "output_type": "display_data"
    }
   ],
   "source": [
    "from huggingface_hub import notebook_login\n",
    "notebook_login()"
   ]
  },
  {
   "cell_type": "code",
   "execution_count": 15,
   "id": "1bd79139",
   "metadata": {},
   "outputs": [],
   "source": [
    "\n",
    "tokenizer = AutoTokenizer.from_pretrained(MODEL_NAME, use_fast=True)\n",
    "tokenizer.pad_token = tokenizer.eos_token"
   ]
  },
  {
   "cell_type": "code",
   "execution_count": 16,
   "id": "83ab13e8",
   "metadata": {},
   "outputs": [],
   "source": [
    "base_model = AutoModelForCausalLM.from_pretrained(\n",
    "    MODEL_NAME,\n",
    "    torch_dtype=torch.float16,\n",
    "    device_map=\"auto\",\n",
    "    trust_remote_code=True,\n",
    "    # attn_implementation=\"flash_attention_2\",\n",
    "    cache_dir=MODEL_PATH,\n",
    ")"
   ]
  },
  {
   "cell_type": "code",
   "execution_count": 17,
   "id": "4b634aaa",
   "metadata": {},
   "outputs": [],
   "source": [
    "# Load LoRA adapters\n",
    "\n",
    "# Give the path to the LoRA adapter or the Hugging Face repo ID\n",
    "\n",
    "model = PeftModel.from_pretrained(base_model, MODEL_ADOPTOR_REPO_ID) # type: ignore"
   ]
  },
  {
   "cell_type": "code",
   "execution_count": 18,
   "id": "63ca04aa",
   "metadata": {},
   "outputs": [],
   "source": [
    "# Merge LoRA into base model (this makes the adapters permanent)\n",
    "model = model.merge_and_unload() # type: ignore\n"
   ]
  },
  {
   "cell_type": "code",
   "execution_count": 8,
   "id": "29da7a59",
   "metadata": {},
   "outputs": [
    {
     "name": "stdout",
     "output_type": "stream",
     "text": [
      "✅ Merged model saved at: ../../Models/Qwen2.5-0.5B-Instruct-RBI-QA-Merged\n"
     ]
    }
   ],
   "source": [
    "# Save merged model and tokenizer\n",
    "model.save_pretrained(MERGED_MODEL_OUTPUT_DIR)\n",
    "tokenizer.save_pretrained(MERGED_MODEL_OUTPUT_DIR)\n",
    "\n",
    "print(f\"✅ Merged model saved at: {MERGED_MODEL_OUTPUT_DIR}\")"
   ]
  },
  {
   "cell_type": "code",
   "execution_count": 19,
   "id": "1d09c10f",
   "metadata": {},
   "outputs": [
    {
     "data": {
      "application/vnd.jupyter.widget-view+json": {
       "model_id": "a299a10550f0405d9de6a2ad1bc90a3f",
       "version_major": 2,
       "version_minor": 0
      },
      "text/plain": [
       "model.safetensors:   0%|          | 0.00/988M [00:00<?, ?B/s]"
      ]
     },
     "metadata": {},
     "output_type": "display_data"
    },
    {
     "data": {
      "application/vnd.jupyter.widget-view+json": {
       "model_id": "ed8f4ce3cb8e4bffb3788bd0c4a391ee",
       "version_major": 2,
       "version_minor": 0
      },
      "text/plain": [
       "README.md:   0%|          | 0.00/5.17k [00:00<?, ?B/s]"
      ]
     },
     "metadata": {},
     "output_type": "display_data"
    },
    {
     "data": {
      "application/vnd.jupyter.widget-view+json": {
       "model_id": "441ee6757394484ab3b25ad6195498c8",
       "version_major": 2,
       "version_minor": 0
      },
      "text/plain": [
       "tokenizer.json:   0%|          | 0.00/11.4M [00:00<?, ?B/s]"
      ]
     },
     "metadata": {},
     "output_type": "display_data"
    },
    {
     "data": {
      "text/plain": [
       "CommitInfo(commit_url='https://huggingface.co/Vishva007/Qwen2.5-0.5B-Instruct-RBI-QA-Finetuned/commit/19a97a9c66a2cbafba49c5cfeb0135ec4ec86109', commit_message='Upload tokenizer', commit_description='', oid='19a97a9c66a2cbafba49c5cfeb0135ec4ec86109', pr_url=None, repo_url=RepoUrl('https://huggingface.co/Vishva007/Qwen2.5-0.5B-Instruct-RBI-QA-Finetuned', endpoint='https://huggingface.co', repo_type='model', repo_id='Vishva007/Qwen2.5-0.5B-Instruct-RBI-QA-Finetuned'), pr_revision=None, pr_num=None)"
      ]
     },
     "execution_count": 19,
     "metadata": {},
     "output_type": "execute_result"
    }
   ],
   "source": [
    "model.push_to_hub(\n",
    "    repo_id=MODEL_FINETUNED_REPO_ID,)\n",
    "tokenizer.push_to_hub(\n",
    "    repo_id=MODEL_FINETUNED_REPO_ID,)"
   ]
  }
 ],
 "metadata": {
  "kernelspec": {
   "display_name": "Python 3",
   "language": "python",
   "name": "python3"
  },
  "language_info": {
   "codemirror_mode": {
    "name": "ipython",
    "version": 3
   },
   "file_extension": ".py",
   "mimetype": "text/x-python",
   "name": "python",
   "nbconvert_exporter": "python",
   "pygments_lexer": "ipython3",
   "version": "3.10.17"
  }
 },
 "nbformat": 4,
 "nbformat_minor": 5
}
