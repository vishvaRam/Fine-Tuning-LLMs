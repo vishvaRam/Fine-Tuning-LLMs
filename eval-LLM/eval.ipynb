{
 "cells": [
  {
   "cell_type": "code",
   "execution_count": null,
   "id": "5d867cff",
   "metadata": {},
   "outputs": [],
   "source": [
    "# !pip install flash-attn --no-build-isolation"
   ]
  },
  {
   "cell_type": "code",
   "execution_count": 1,
   "id": "e8d74a5b",
   "metadata": {},
   "outputs": [
    {
     "data": {
      "text/plain": [
       "True"
      ]
     },
     "execution_count": 1,
     "metadata": {},
     "output_type": "execute_result"
    }
   ],
   "source": [
    "import json\n",
    "import outlines\n",
    "import torch\n",
    "from typing import List, Optional\n",
    "from pydantic import BaseModel, Field\n",
    "from dotenv import load_dotenv\n",
    "from datasets import load_dataset,Dataset\n",
    "from rich import print\n",
    "from langchain_google_genai import ChatGoogleGenerativeAI\n",
    "from langchain_core.prompts import ChatPromptTemplate\n",
    "from typing import Dict,Tuple,Any\n",
    "import os\n",
    "import tqdm\n",
    "# os.environ[\"TRANSFORMERS_VERBOSITY\"] = \"info\"\n",
    "load_dotenv()"
   ]
  },
  {
   "cell_type": "code",
   "execution_count": null,
   "id": "f9c5a942",
   "metadata": {},
   "outputs": [],
   "source": [
    "MODEL_NAME = os.getenv(\"MODEL_NAME\")\n",
    "MODEL_PATH = os.getenv(\"MODEL_PATH\")\n",
    "DATASET_NAME = os.getenv(\"DATASET_NAME\")\n",
    "SEED = int(os.getenv(\"SEED\"))\n",
    "GOOGLE_API_KEY = os.getenv(\"GOOGLE_API_KEY\") \n",
    "GOOGLE_MODEL_ID = os.getenv(\"GOOGLE_MODEL_ID\") \n",
    "GOOGLE_TEMPERATURE = float(os.getenv(\"GOOGLE_TEMPERATURE\") )\n",
    "GOOGLE_MAX_TOKENS = int(os.getenv(\"GOOGLE_MAX_TOKENS\"))\n",
    "EVAL_SET_SIZE = int(os.getenv(\"EVAL_SET_SIZE\", 10))\n",
    "MERGED_MODEL_OUTPUT_DIR = os.getenv(\"MERGED_MODEL_OUTPUT_DIR\")\n",
    "MODEL_FINETUNED_REPO_ID = os.getenv(\"MODEL_FINETUNED_REPO_ID\")\n"
   ]
  },
  {
   "cell_type": "code",
   "execution_count": 3,
   "id": "b9ef364b",
   "metadata": {},
   "outputs": [
    {
     "data": {
      "text/html": [
       "<pre style=\"white-space:pre;overflow-x:auto;line-height:normal;font-family:Menlo,'DejaVu Sans Mono',consolas,'Courier New',monospace\">Current working directory: <span style=\"color: #800080; text-decoration-color: #800080\">/workspaces/Fine_Tuning_LLM/Code/</span><span style=\"color: #ff00ff; text-decoration-color: #ff00ff\">eval-LLM</span>\n",
       "</pre>\n"
      ],
      "text/plain": [
       "Current working directory: \u001b[35m/workspaces/Fine_Tuning_LLM/Code/\u001b[0m\u001b[95meval-LLM\u001b[0m\n"
      ]
     },
     "metadata": {},
     "output_type": "display_data"
    },
    {
     "data": {
      "text/html": [
       "<pre style=\"white-space:pre;overflow-x:auto;line-height:normal;font-family:Menlo,'DejaVu Sans Mono',consolas,'Courier New',monospace\">Absolute model path: <span style=\"color: #800080; text-decoration-color: #800080\">/workspaces/Fine_Tuning_LLM/</span><span style=\"color: #ff00ff; text-decoration-color: #ff00ff\">Models</span>\n",
       "</pre>\n"
      ],
      "text/plain": [
       "Absolute model path: \u001b[35m/workspaces/Fine_Tuning_LLM/\u001b[0m\u001b[95mModels\u001b[0m\n"
      ]
     },
     "metadata": {},
     "output_type": "display_data"
    }
   ],
   "source": [
    "import os\n",
    "print(f\"Current working directory: {os.getcwd()}\")\n",
    "absolute_model_path = os.path.abspath(MODEL_PATH)\n",
    "print(f\"Absolute model path: {absolute_model_path}\")\n"
   ]
  },
  {
   "cell_type": "code",
   "execution_count": 4,
   "id": "552773ab",
   "metadata": {},
   "outputs": [
    {
     "data": {
      "text/html": [
       "<pre style=\"white-space:pre;overflow-x:auto;line-height:normal;font-family:Menlo,'DejaVu Sans Mono',consolas,'Courier New',monospace\">Loading dataset: Vishva007/RBI-Circular-QA-Dataset\n",
       "</pre>\n"
      ],
      "text/plain": [
       "Loading dataset: Vishva007/RBI-Circular-QA-Dataset\n"
      ]
     },
     "metadata": {},
     "output_type": "display_data"
    },
    {
     "data": {
      "text/html": [
       "<pre style=\"white-space:pre;overflow-x:auto;line-height:normal;font-family:Menlo,'DejaVu Sans Mono',consolas,'Courier New',monospace\">Using seed: <span style=\"color: #008080; text-decoration-color: #008080; font-weight: bold\">42</span>\n",
       "</pre>\n"
      ],
      "text/plain": [
       "Using seed: \u001b[1;36m42\u001b[0m\n"
      ]
     },
     "metadata": {},
     "output_type": "display_data"
    }
   ],
   "source": [
    "print(f\"Loading dataset: {DATASET_NAME}\")\n",
    "print(f\"Using seed: {SEED}\")"
   ]
  },
  {
   "cell_type": "code",
   "execution_count": 5,
   "id": "a8ac3510",
   "metadata": {},
   "outputs": [
    {
     "data": {
      "text/html": [
       "<pre style=\"white-space:pre;overflow-x:auto;line-height:normal;font-family:Menlo,'DejaVu Sans Mono',consolas,'Courier New',monospace\">Dataset loaded successfully!\n",
       "</pre>\n"
      ],
      "text/plain": [
       "Dataset loaded successfully!\n"
      ]
     },
     "metadata": {},
     "output_type": "display_data"
    },
    {
     "data": {
      "text/html": [
       "<pre style=\"white-space:pre;overflow-x:auto;line-height:normal;font-family:Menlo,'DejaVu Sans Mono',consolas,'Courier New',monospace\"><span style=\"color: #800080; text-decoration-color: #800080; font-weight: bold\">Dataset</span><span style=\"font-weight: bold\">({</span>\n",
       "    features: <span style=\"font-weight: bold\">[</span><span style=\"color: #008000; text-decoration-color: #008000\">'document'</span>, <span style=\"color: #008000; text-decoration-color: #008000\">'filename'</span>, <span style=\"color: #008000; text-decoration-color: #008000\">'model_name'</span>, <span style=\"color: #008000; text-decoration-color: #008000\">'regulation_area'</span>, <span style=\"color: #008000; text-decoration-color: #008000\">'applicable_to'</span>, <span style=\"color: #008000; text-decoration-color: #008000\">'issued_on'</span>, <span style=\"color: #008000; text-decoration-color: #008000\">'key_topics'</span>,\n",
       "<span style=\"color: #008000; text-decoration-color: #008000\">'chunks_text'</span>, <span style=\"color: #008000; text-decoration-color: #008000\">'is_table'</span>, <span style=\"color: #008000; text-decoration-color: #008000\">'question'</span>, <span style=\"color: #008000; text-decoration-color: #008000\">'answer'</span>, <span style=\"color: #008000; text-decoration-color: #008000\">'evaluation_criteria'</span>, <span style=\"color: #008000; text-decoration-color: #008000\">'category'</span>, <span style=\"color: #008000; text-decoration-color: #008000\">'estimated_difficulty'</span>, \n",
       "<span style=\"color: #008000; text-decoration-color: #008000\">'rephrased_question'</span>, <span style=\"color: #008000; text-decoration-color: #008000\">'rephrased_answer'</span><span style=\"font-weight: bold\">]</span>,\n",
       "    num_rows: <span style=\"color: #008080; text-decoration-color: #008080; font-weight: bold\">100</span>\n",
       "<span style=\"font-weight: bold\">})</span>\n",
       "</pre>\n"
      ],
      "text/plain": [
       "\u001b[1;35mDataset\u001b[0m\u001b[1m(\u001b[0m\u001b[1m{\u001b[0m\n",
       "    features: \u001b[1m[\u001b[0m\u001b[32m'document'\u001b[0m, \u001b[32m'filename'\u001b[0m, \u001b[32m'model_name'\u001b[0m, \u001b[32m'regulation_area'\u001b[0m, \u001b[32m'applicable_to'\u001b[0m, \u001b[32m'issued_on'\u001b[0m, \u001b[32m'key_topics'\u001b[0m,\n",
       "\u001b[32m'chunks_text'\u001b[0m, \u001b[32m'is_table'\u001b[0m, \u001b[32m'question'\u001b[0m, \u001b[32m'answer'\u001b[0m, \u001b[32m'evaluation_criteria'\u001b[0m, \u001b[32m'category'\u001b[0m, \u001b[32m'estimated_difficulty'\u001b[0m, \n",
       "\u001b[32m'rephrased_question'\u001b[0m, \u001b[32m'rephrased_answer'\u001b[0m\u001b[1m]\u001b[0m,\n",
       "    num_rows: \u001b[1;36m100\u001b[0m\n",
       "\u001b[1m}\u001b[0m\u001b[1m)\u001b[0m\n"
      ]
     },
     "metadata": {},
     "output_type": "display_data"
    }
   ],
   "source": [
    "try:\n",
    "    dataset = load_dataset(DATASET_NAME,split=\"eval\")\n",
    "    print(\"Dataset loaded successfully!\")\n",
    "    print(dataset) # Print the dataset structure to see available splits\n",
    "except Exception as e:\n",
    "    print(f\"Error loading dataset: {e}\")\n",
    "    print(\"Please ensure the dataset name is correct and you have an active internet connection.\")\n"
   ]
  },
  {
   "cell_type": "code",
   "execution_count": 6,
   "id": "556ea849",
   "metadata": {},
   "outputs": [],
   "source": [
    "number_of_examples_for_eval = EVAL_SET_SIZE\n",
    "\n",
    "# Get the total number of examples in full_dataset\n",
    "num_examples = len(dataset)\n",
    "\n",
    "# Calculate the start index for the last EVAL_SET_SIZE examples\n",
    "start_index = num_examples - number_of_examples_for_eval\n",
    "\n",
    "# Create a list of indices for the last 1EVAL_SET_SIZE0 examples\n",
    "indices_to_select = list(range(start_index, num_examples))\n",
    "\n",
    "# Use the .select() method to create a new Dataset object containing only those indices\n",
    "eval_dataset = dataset.select(indices_to_select)\n"
   ]
  },
  {
   "cell_type": "code",
   "execution_count": 7,
   "id": "3874dcbd",
   "metadata": {},
   "outputs": [
    {
     "data": {
      "text/html": [
       "<pre style=\"white-space:pre;overflow-x:auto;line-height:normal;font-family:Menlo,'DejaVu Sans Mono',consolas,'Courier New',monospace\">dataset type: <span style=\"font-weight: bold\">&lt;</span><span style=\"color: #ff00ff; text-decoration-color: #ff00ff; font-weight: bold\">class</span><span style=\"color: #000000; text-decoration-color: #000000\"> </span><span style=\"color: #008000; text-decoration-color: #008000\">'datasets.arrow_dataset.Dataset'</span><span style=\"font-weight: bold\">&gt;</span>\n",
       "</pre>\n"
      ],
      "text/plain": [
       "dataset type: \u001b[1m<\u001b[0m\u001b[1;95mclass\u001b[0m\u001b[39m \u001b[0m\u001b[32m'datasets.arrow_dataset.Dataset'\u001b[0m\u001b[1m>\u001b[0m\n"
      ]
     },
     "metadata": {},
     "output_type": "display_data"
    },
    {
     "data": {
      "text/html": [
       "<pre style=\"white-space:pre;overflow-x:auto;line-height:normal;font-family:Menlo,'DejaVu Sans Mono',consolas,'Courier New',monospace\">eval_dataset type: <span style=\"font-weight: bold\">&lt;</span><span style=\"color: #ff00ff; text-decoration-color: #ff00ff; font-weight: bold\">class</span><span style=\"color: #000000; text-decoration-color: #000000\"> </span><span style=\"color: #008000; text-decoration-color: #008000\">'datasets.arrow_dataset.Dataset'</span><span style=\"font-weight: bold\">&gt;</span>\n",
       "</pre>\n"
      ],
      "text/plain": [
       "eval_dataset type: \u001b[1m<\u001b[0m\u001b[1;95mclass\u001b[0m\u001b[39m \u001b[0m\u001b[32m'datasets.arrow_dataset.Dataset'\u001b[0m\u001b[1m>\u001b[0m\n"
      ]
     },
     "metadata": {},
     "output_type": "display_data"
    }
   ],
   "source": [
    "print(\"dataset type:\", type(dataset))\n",
    "print(\"eval_dataset type:\", type(dataset))"
   ]
  },
  {
   "cell_type": "code",
   "execution_count": 8,
   "id": "cec701e8",
   "metadata": {},
   "outputs": [],
   "source": [
    "class ResponseFormat(BaseModel):\n",
    "    answer : str\n",
    "    \n",
    "class EvaluationResult(BaseModel):\n",
    "    score: int = Field(..., description=\"Score 1 if the answer fully satisfies ALL the specified criteria, 0 otherwise.\", ge=0, le=1)\n"
   ]
  },
  {
   "cell_type": "code",
   "execution_count": 9,
   "id": "ca6eabd7",
   "metadata": {},
   "outputs": [
    {
     "data": {
      "text/html": [
       "<pre style=\"white-space:pre;overflow-x:auto;line-height:normal;font-family:Menlo,'DejaVu Sans Mono',consolas,'Courier New',monospace\">GPU is Used!\n",
       "</pre>\n"
      ],
      "text/plain": [
       "GPU is Used!\n"
      ]
     },
     "metadata": {},
     "output_type": "display_data"
    }
   ],
   "source": [
    "if torch.cuda.is_available():\n",
    "    print(\"GPU is Used!\")\n",
    "else:\n",
    "    print(\"CPU is Used!\")"
   ]
  },
  {
   "cell_type": "code",
   "execution_count": null,
   "id": "45898aa7",
   "metadata": {},
   "outputs": [
    {
     "name": "stderr",
     "output_type": "stream",
     "text": [
      "The following generation flags are not valid and may be ignored: ['temperature', 'top_p']. Set `TRANSFORMERS_VERBOSITY=info` for more details.\n",
      "The following generation flags are not valid and may be ignored: ['temperature', 'top_p']. Set `TRANSFORMERS_VERBOSITY=info` for more details.\n"
     ]
    },
    {
     "data": {
      "application/vnd.jupyter.widget-view+json": {
       "model_id": "865eae4c7417407bb7597b2110f26954",
       "version_major": 2,
       "version_minor": 0
      },
      "text/plain": [
       "generation_config.json:   0%|          | 0.00/242 [00:00<?, ?B/s]"
      ]
     },
     "metadata": {},
     "output_type": "display_data"
    },
    {
     "data": {
      "application/vnd.jupyter.widget-view+json": {
       "model_id": "40966f4558364b2891214ca938428e64",
       "version_major": 2,
       "version_minor": 0
      },
      "text/plain": [
       "tokenizer_config.json:   0%|          | 0.00/4.68k [00:00<?, ?B/s]"
      ]
     },
     "metadata": {},
     "output_type": "display_data"
    },
    {
     "data": {
      "application/vnd.jupyter.widget-view+json": {
       "model_id": "7bf5631c38024aaaa9c4ce6aa22ca7f2",
       "version_major": 2,
       "version_minor": 0
      },
      "text/plain": [
       "vocab.json:   0%|          | 0.00/2.78M [00:00<?, ?B/s]"
      ]
     },
     "metadata": {},
     "output_type": "display_data"
    },
    {
     "data": {
      "application/vnd.jupyter.widget-view+json": {
       "model_id": "c66a7055e9644d29acf1cb87accc4277",
       "version_major": 2,
       "version_minor": 0
      },
      "text/plain": [
       "merges.txt:   0%|          | 0.00/1.67M [00:00<?, ?B/s]"
      ]
     },
     "metadata": {},
     "output_type": "display_data"
    },
    {
     "data": {
      "application/vnd.jupyter.widget-view+json": {
       "model_id": "e4df9bc99c9945ba8e729944771074f7",
       "version_major": 2,
       "version_minor": 0
      },
      "text/plain": [
       "tokenizer.json:   0%|          | 0.00/11.4M [00:00<?, ?B/s]"
      ]
     },
     "metadata": {},
     "output_type": "display_data"
    },
    {
     "data": {
      "application/vnd.jupyter.widget-view+json": {
       "model_id": "9906c89872474c3b8de1e668bfb4ba80",
       "version_major": 2,
       "version_minor": 0
      },
      "text/plain": [
       "added_tokens.json:   0%|          | 0.00/605 [00:00<?, ?B/s]"
      ]
     },
     "metadata": {},
     "output_type": "display_data"
    },
    {
     "data": {
      "application/vnd.jupyter.widget-view+json": {
       "model_id": "b63f1887abb24009a78a95fac3712ec0",
       "version_major": 2,
       "version_minor": 0
      },
      "text/plain": [
       "special_tokens_map.json:   0%|          | 0.00/496 [00:00<?, ?B/s]"
      ]
     },
     "metadata": {},
     "output_type": "display_data"
    },
    {
     "data": {
      "application/vnd.jupyter.widget-view+json": {
       "model_id": "5ca4b629737f41f6bc4d0f6d4111732b",
       "version_major": 2,
       "version_minor": 0
      },
      "text/plain": [
       "chat_template.jinja:   0%|          | 0.00/2.51k [00:00<?, ?B/s]"
      ]
     },
     "metadata": {},
     "output_type": "display_data"
    }
   ],
   "source": [
    "model = outlines.models.transformers(MERGED_MODEL_OUTPUT_DIR,\n",
    "                                     device=\"cuda\",\n",
    "                                     model_kwargs={\"temperature\":0.1,\n",
    "                                                    \"top_k\":50,\n",
    "                                                    \"top_p\":0.95,\n",
    "                                                    \"cache_dir\":MERGED_MODEL_OUTPUT_DIR},)"
   ]
  },
  {
   "cell_type": "code",
   "execution_count": 11,
   "id": "d8c390ec",
   "metadata": {},
   "outputs": [],
   "source": [
    "# Initialize Gemini LLM\n",
    "llm = ChatGoogleGenerativeAI(\n",
    "        model=GOOGLE_MODEL_ID, \n",
    "        temperature=GOOGLE_TEMPERATURE,\n",
    "        max_tokens=GOOGLE_MAX_TOKENS,\n",
    "        timeout=None,\n",
    "        api_key=GOOGLE_API_KEY,\n",
    "    )"
   ]
  },
  {
   "cell_type": "code",
   "execution_count": 5,
   "id": "beb69e04",
   "metadata": {},
   "outputs": [],
   "source": [
    "def generate_answers_with_outlines(\n",
    "    model,\n",
    "    eval_dataset: Dataset,\n",
    "    batch_size: int = 5,\n",
    "    device: str = \"cuda\"\n",
    ") -> List[Dict[str, str]]:\n",
    "    \"\"\"\n",
    "    Generates answers for a dataset using an Outlines LLM.\n",
    "\n",
    "    Args:\n",
    "        model: The loaded HuggingFace model for Outlines.\n",
    "        eval_dataset (datasets.Dataset): The dataset containing 'question' fields.\n",
    "        batch_size (int): The number of samples to process in each batch.\n",
    "        device (str): The device to run the model on (e.g., \"cuda\" or \"cpu\").\n",
    "\n",
    "    Returns:\n",
    "        List[Dict[str, str]]: A list of dictionaries, each containing the original question\n",
    "                              and the 'generated_answer' from Outlines.\n",
    "    \"\"\"\n",
    "\n",
    "    schema_as_str = json.dumps(ResponseFormat.model_json_schema())\n",
    "    generator = outlines.generate.json(model, schema_as_str)\n",
    "\n",
    "    generated_data = []\n",
    "\n",
    "    print(f\"Generating answers in batches of {batch_size}...\")\n",
    "    for i in range(0, len(eval_dataset), batch_size):\n",
    "        batch_slice = eval_dataset.select(list(range(i, min(i + batch_size, len(eval_dataset)))))\n",
    "        \n",
    "        inputs = [item['question'] for item in batch_slice.to_list()]\n",
    "\n",
    "        try:\n",
    "            # Generate answers using outlines LLM\n",
    "            outlines_outputs = generator(inputs)\n",
    "            print(f\"Generated {len(outlines_outputs)} answers for batch starting at index {i}.\")\n",
    "            print(outlines_outputs)\n",
    "            \n",
    "            # Combine original question with generated answer\n",
    "            for original_item, outlines_output in zip(batch_slice.to_list(), outlines_outputs):\n",
    "                generated_data.append({\n",
    "                    \"question\": original_item['question'],\n",
    "                    \"generated_answer\": outlines_output['answer'] \n",
    "                })\n",
    "        except Exception as e:\n",
    "            print(f\"Error during Outlines generation for batch starting at index {i}: {e}\")\n",
    "            for original_item in batch_slice.to_list():\n",
    "                 generated_data.append({\n",
    "                    \"question\": original_item['question'],\n",
    "                    \"generated_answer\": \"\\\\ (Generation Failed)\"\n",
    "                })\n",
    "\n",
    "    print(\"Outlines answer generation complete.\")\n",
    "    return generated_data"
   ]
  },
  {
   "cell_type": "code",
   "execution_count": 6,
   "id": "72a1260a",
   "metadata": {},
   "outputs": [
    {
     "ename": "NameError",
     "evalue": "name 'eval_dataset' is not defined",
     "output_type": "error",
     "traceback": [
      "\u001b[0;31m---------------------------------------------------------------------------\u001b[0m",
      "\u001b[0;31mNameError\u001b[0m                                 Traceback (most recent call last)",
      "Cell \u001b[0;32mIn[6], line 3\u001b[0m\n\u001b[1;32m      1\u001b[0m generated_answers \u001b[38;5;241m=\u001b[39m generate_answers_with_outlines(\n\u001b[1;32m      2\u001b[0m     model,\n\u001b[0;32m----> 3\u001b[0m     \u001b[43meval_dataset\u001b[49m,\n\u001b[1;32m      4\u001b[0m     batch_size\u001b[38;5;241m=\u001b[39m\u001b[38;5;241m5\u001b[39m,\n\u001b[1;32m      5\u001b[0m     device\u001b[38;5;241m=\u001b[39m\u001b[38;5;124m\"\u001b[39m\u001b[38;5;124mcuda\u001b[39m\u001b[38;5;124m\"\u001b[39m \u001b[38;5;28;01mif\u001b[39;00m torch\u001b[38;5;241m.\u001b[39mcuda\u001b[38;5;241m.\u001b[39mis_available() \u001b[38;5;28;01melse\u001b[39;00m \u001b[38;5;124m\"\u001b[39m\u001b[38;5;124mcpu\u001b[39m\u001b[38;5;124m\"\u001b[39m\n\u001b[1;32m      6\u001b[0m )\n",
      "\u001b[0;31mNameError\u001b[0m: name 'eval_dataset' is not defined"
     ]
    }
   ],
   "source": [
    "generated_answers = generate_answers_with_outlines(\n",
    "    model,\n",
    "    eval_dataset,\n",
    "    batch_size=5,\n",
    "    device=\"cuda\" if torch.cuda.is_available() else \"cpu\"\n",
    ")"
   ]
  },
  {
   "cell_type": "code",
   "execution_count": 18,
   "id": "9c8e3f89",
   "metadata": {},
   "outputs": [
    {
     "data": {
      "text/html": [
       "<pre style=\"white-space:pre;overflow-x:auto;line-height:normal;font-family:Menlo,'DejaVu Sans Mono',consolas,'Courier New',monospace\"><span style=\"font-weight: bold\">[</span>\n",
       "    <span style=\"font-weight: bold\">{</span>\n",
       "        <span style=\"color: #008000; text-decoration-color: #008000\">'question'</span>: <span style=\"color: #008000; text-decoration-color: #008000\">'What is the general role of the Banking Regulation Act of 1949 in the context of banking </span>\n",
       "<span style=\"color: #008000; text-decoration-color: #008000\">companies in India?'</span>,\n",
       "        <span style=\"color: #008000; text-decoration-color: #008000\">'generated_answer'</span>: <span style=\"color: #008000; text-decoration-color: #008000\">'Seven pillars of banking regulation in India: Advocacy, Coordination, Regulation, </span>\n",
       "<span style=\"color: #008000; text-decoration-color: #008000\">Supervision, Market, Enforcement and Aid. '</span>\n",
       "    <span style=\"font-weight: bold\">}</span>,\n",
       "    <span style=\"font-weight: bold\">{</span>\n",
       "        <span style=\"color: #008000; text-decoration-color: #008000\">'question'</span>: <span style=\"color: #008000; text-decoration-color: #008000\">'How should Nodal/Focal Point branches report April 2023 transactions, and how should they </span>\n",
       "<span style=\"color: #008000; text-decoration-color: #008000\">differentiate them from March Residual Transactions in their reporting?'</span>,\n",
       "        <span style=\"color: #008000; text-decoration-color: #008000\">'generated_answer'</span>: <span style=\"color: #008000; text-decoration-color: #008000\">'}The company should create a separate folder in their Report tab for each applicable </span>\n",
       "<span style=\"color: #008000; text-decoration-color: #008000\">Nodal/Focal Point branch showing the report date for all transactions and specified date ranges of any </span>\n",
       "<span style=\"color: #008000; text-decoration-color: #008000\">developments.'</span>\n",
       "    <span style=\"font-weight: bold\">}</span>,\n",
       "    <span style=\"font-weight: bold\">{</span>\n",
       "        <span style=\"color: #008000; text-decoration-color: #008000\">'question'</span>: <span style=\"color: #008000; text-decoration-color: #008000\">\"What is the procedure for regulated entities to handle requests for delisting from the </span>\n",
       "<span style=\"color: #008000; text-decoration-color: #008000\">Security Council's ISIL (Da'esh) and Al-Qaida Sanctions List, and what alternative options are available for </span>\n",
       "<span style=\"color: #008000; text-decoration-color: #008000\">individuals or entities seeking removal from the list?\"</span>,\n",
       "        <span style=\"color: #008000; text-decoration-color: #008000\">'generated_answer'</span>: <span style=\"color: #008000; text-decoration-color: #008000\">'Regulated entities handle requests for delisting through regular procedures in line </span>\n",
       "<span style=\"color: #008000; text-decoration-color: #008000\">with the United Nations Security Council, as well as access to alternative options through grassroots activists and</span>\n",
       "<span style=\"color: #008000; text-decoration-color: #008000\">legal associations.'</span>\n",
       "    <span style=\"font-weight: bold\">}</span>,\n",
       "    <span style=\"font-weight: bold\">{</span>\n",
       "        <span style=\"color: #008000; text-decoration-color: #008000\">'question'</span>: <span style=\"color: #008000; text-decoration-color: #008000\">'How should Credit Information Companies provide individuals with access to their free annual </span>\n",
       "<span style=\"color: #008000; text-decoration-color: #008000\">credit report?'</span>,\n",
       "        <span style=\"color: #008000; text-decoration-color: #008000\">'generated_answer'</span>: <span style=\"color: #008000; text-decoration-color: #008000\">\"\\\\'Certain companies will keep your reports public and allow you to view them on the </span>\n",
       "<span style=\"color: #008000; text-decoration-color: #008000\">Federal Trade Commission website, while others will require a subscription or payment for access.\"</span>\n",
       "    <span style=\"font-weight: bold\">}</span>,\n",
       "    <span style=\"font-weight: bold\">{</span>\n",
       "        <span style=\"color: #008000; text-decoration-color: #008000\">'question'</span>: <span style=\"color: #008000; text-decoration-color: #008000\">'How can card issuing banks enable Card-on-File (CoFT) token generation, and what are the key </span>\n",
       "<span style=\"color: #008000; text-decoration-color: #008000\">requirements for customer consent and token availability?'</span>,\n",
       "        <span style=\"color: #008000; text-decoration-color: #008000\">'generated_answer'</span>: '\\\\'\n",
       "    <span style=\"font-weight: bold\">}</span>,\n",
       "    <span style=\"font-weight: bold\">{</span>\n",
       "        <span style=\"color: #008000; text-decoration-color: #008000\">'question'</span>: <span style=\"color: #008000; text-decoration-color: #008000\">'What are the compliance requirements for Regulated Entities concerning the Unlawful Activities</span>\n",
       "<span style=\"color: #008000; text-decoration-color: #008000\">(Prevention) Act (UAPA) Order?'</span>,\n",
       "        <span style=\"color: #008000; text-decoration-color: #008000\">'generated_answer'</span>: <span style=\"color: #008000; text-decoration-color: #008000\">\"Sreferences To Regulated Entities For Compliance With The Prevention Act, Order, </span>\n",
       "<span style=\"color: #008000; text-decoration-color: #008000\">Pursuant To Their Eligibilities As Personnel, Management, Agents, Or `Contractual Relationships' Under That Act.\"</span>\n",
       "    <span style=\"font-weight: bold\">}</span>,\n",
       "    <span style=\"font-weight: bold\">{</span>\n",
       "        <span style=\"color: #008000; text-decoration-color: #008000\">'question'</span>: <span style=\"color: #008000; text-decoration-color: #008000\">'Which bank is responsible for the lead bank responsibility in the Hojai district?'</span>,\n",
       "        <span style=\"color: #008000; text-decoration-color: #008000\">'generated_answer'</span>: <span style=\"color: #008000; text-decoration-color: #008000\">'Bank of Guyananehmen'</span>\n",
       "    <span style=\"font-weight: bold\">}</span>,\n",
       "    <span style=\"font-weight: bold\">{</span>\n",
       "        <span style=\"color: #008000; text-decoration-color: #008000\">'question'</span>: <span style=\"color: #008000; text-decoration-color: #008000\">'What steps should banks take to simplify the activation of inoperative or frozen accounts?'</span>,\n",
       "        <span style=\"color: #008000; text-decoration-color: #008000\">'generated_answer'</span>: <span style=\"color: #008000; text-decoration-color: #008000\">\"The full hands-on process would involve bank personnel to contact the account holder </span>\n",
       "<span style=\"color: #008000; text-decoration-color: #008000\">and then to follow up with specific steps including dialing the financial institution's phone number and of course </span>\n",
       "<span style=\"color: #008000; text-decoration-color: #008000\">dialing for the financial institution's customer support number, which then prompts the holder to click and enter </span>\n",
       "<span style=\"color: #008000; text-decoration-color: #008000\">specific information such as magnetic stripe card or account number, debit/credit card CVV number, store location, </span>\n",
       "<span style=\"color: #008000; text-decoration-color: #008000\">bank location, etc., and then complete the activation process once dialing in for the appropriate phone number, and</span>\n",
       "<span style=\"color: #008000; text-decoration-color: #008000\">so forth. Helping bank professionals to review and advise on how to have users fix problems with </span>\n",
       "<span style=\"color: #008000; text-decoration-color: #008000\">inoperable/closed/overpaid/inactive/incompatible accounts, as well as banking issues of course, would be of value </span>\n",
       "<span style=\"color: #008000; text-decoration-color: #008000\">as well,\"</span>\n",
       "    <span style=\"font-weight: bold\">}</span>,\n",
       "    <span style=\"font-weight: bold\">{</span>\n",
       "        <span style=\"color: #008000; text-decoration-color: #008000\">'question'</span>: <span style=\"color: #008000; text-decoration-color: #008000\">\"What is the purpose of the Reserve Bank of India's Master Direction on Financial Statements - </span>\n",
       "<span style=\"color: #008000; text-decoration-color: #008000\">Presentation and Disclosures?\"</span>,\n",
       "        <span style=\"color: #008000; text-decoration-color: #008000\">'generated_answer'</span>: <span style=\"color: #008000; text-decoration-color: #008000\">\"The purpose of the Reserve Bank of India's Master Direction on Financial Statements - </span>\n",
       "<span style=\"color: #008000; text-decoration-color: #008000\">Presentation and Disclosures (MDFS) is to provide guidance and suggestions to regulators, advisory institutions, </span>\n",
       "<span style=\"color: #008000; text-decoration-color: #008000\">and the general public regarding the preparation of financial statements and disclosure materials.\"</span>\n",
       "    <span style=\"font-weight: bold\">}</span>,\n",
       "    <span style=\"font-weight: bold\">{</span>\n",
       "        <span style=\"color: #008000; text-decoration-color: #008000\">'question'</span>: <span style=\"color: #008000; text-decoration-color: #008000\">'What is the Reserve Bank of India\\'s advice to participants in the Government Securities </span>\n",
       "<span style=\"color: #008000; text-decoration-color: #008000\">market regarding the use of the \"Price / Yield range setting\" facility on the e-Kuber platform, and what is the </span>\n",
       "<span style=\"color: #008000; text-decoration-color: #008000\">policy on bid cancellations?'</span>,\n",
       "        <span style=\"color: #008000; text-decoration-color: #008000\">'generated_answer'</span>: <span style=\"color: #008000; text-decoration-color: #008000\">'Participants may not use the facility for auctions and cross markets unless the </span>\n",
       "<span style=\"color: #008000; text-decoration-color: #008000\">Reserve Bank of India has provided its view on the facility; only the Reserve Bank of India may get the opportunity</span>\n",
       "<span style=\"color: #008000; text-decoration-color: #008000\">to sever the facility from participants.'</span>\n",
       "    <span style=\"font-weight: bold\">}</span>\n",
       "<span style=\"font-weight: bold\">]</span>\n",
       "</pre>\n"
      ],
      "text/plain": [
       "\u001b[1m[\u001b[0m\n",
       "    \u001b[1m{\u001b[0m\n",
       "        \u001b[32m'question'\u001b[0m: \u001b[32m'What is the general role of the Banking Regulation Act of 1949 in the context of banking \u001b[0m\n",
       "\u001b[32mcompanies in India?'\u001b[0m,\n",
       "        \u001b[32m'generated_answer'\u001b[0m: \u001b[32m'Seven pillars of banking regulation in India: Advocacy, Coordination, Regulation, \u001b[0m\n",
       "\u001b[32mSupervision, Market, Enforcement and Aid. '\u001b[0m\n",
       "    \u001b[1m}\u001b[0m,\n",
       "    \u001b[1m{\u001b[0m\n",
       "        \u001b[32m'question'\u001b[0m: \u001b[32m'How should Nodal/Focal Point branches report April 2023 transactions, and how should they \u001b[0m\n",
       "\u001b[32mdifferentiate them from March Residual Transactions in their reporting?'\u001b[0m,\n",
       "        \u001b[32m'generated_answer'\u001b[0m: \u001b[32m'\u001b[0m\u001b[32m}\u001b[0m\u001b[32mThe company should create a separate folder in their Report tab for each applicable \u001b[0m\n",
       "\u001b[32mNodal/Focal Point branch showing the report date for all transactions and specified date ranges of any \u001b[0m\n",
       "\u001b[32mdevelopments.'\u001b[0m\n",
       "    \u001b[1m}\u001b[0m,\n",
       "    \u001b[1m{\u001b[0m\n",
       "        \u001b[32m'question'\u001b[0m: \u001b[32m\"What is the procedure for regulated entities to handle requests for delisting from the \u001b[0m\n",
       "\u001b[32mSecurity Council's ISIL \u001b[0m\u001b[32m(\u001b[0m\u001b[32mDa'esh\u001b[0m\u001b[32m)\u001b[0m\u001b[32m and Al-Qaida Sanctions List, and what alternative options are available for \u001b[0m\n",
       "\u001b[32mindividuals or entities seeking removal from the list?\"\u001b[0m,\n",
       "        \u001b[32m'generated_answer'\u001b[0m: \u001b[32m'Regulated entities handle requests for delisting through regular procedures in line \u001b[0m\n",
       "\u001b[32mwith the United Nations Security Council, as well as access to alternative options through grassroots activists and\u001b[0m\n",
       "\u001b[32mlegal associations.'\u001b[0m\n",
       "    \u001b[1m}\u001b[0m,\n",
       "    \u001b[1m{\u001b[0m\n",
       "        \u001b[32m'question'\u001b[0m: \u001b[32m'How should Credit Information Companies provide individuals with access to their free annual \u001b[0m\n",
       "\u001b[32mcredit report?'\u001b[0m,\n",
       "        \u001b[32m'generated_answer'\u001b[0m: \u001b[32m\"\\\\'Certain companies will keep your reports public and allow you to view them on the \u001b[0m\n",
       "\u001b[32mFederal Trade Commission website, while others will require a subscription or payment for access.\"\u001b[0m\n",
       "    \u001b[1m}\u001b[0m,\n",
       "    \u001b[1m{\u001b[0m\n",
       "        \u001b[32m'question'\u001b[0m: \u001b[32m'How can card issuing banks enable Card-on-File \u001b[0m\u001b[32m(\u001b[0m\u001b[32mCoFT\u001b[0m\u001b[32m)\u001b[0m\u001b[32m token generation, and what are the key \u001b[0m\n",
       "\u001b[32mrequirements for customer consent and token availability?'\u001b[0m,\n",
       "        \u001b[32m'generated_answer'\u001b[0m: '\\\\'\n",
       "    \u001b[1m}\u001b[0m,\n",
       "    \u001b[1m{\u001b[0m\n",
       "        \u001b[32m'question'\u001b[0m: \u001b[32m'What are the compliance requirements for Regulated Entities concerning the Unlawful Activities\u001b[0m\n",
       "\u001b[32m(\u001b[0m\u001b[32mPrevention\u001b[0m\u001b[32m)\u001b[0m\u001b[32m Act \u001b[0m\u001b[32m(\u001b[0m\u001b[32mUAPA\u001b[0m\u001b[32m)\u001b[0m\u001b[32m Order?'\u001b[0m,\n",
       "        \u001b[32m'generated_answer'\u001b[0m: \u001b[32m\"Sreferences To Regulated Entities For Compliance With The Prevention Act, Order, \u001b[0m\n",
       "\u001b[32mPursuant To Their Eligibilities As Personnel, Management, Agents, Or `Contractual Relationships' Under That Act.\"\u001b[0m\n",
       "    \u001b[1m}\u001b[0m,\n",
       "    \u001b[1m{\u001b[0m\n",
       "        \u001b[32m'question'\u001b[0m: \u001b[32m'Which bank is responsible for the lead bank responsibility in the Hojai district?'\u001b[0m,\n",
       "        \u001b[32m'generated_answer'\u001b[0m: \u001b[32m'Bank of Guyananehmen'\u001b[0m\n",
       "    \u001b[1m}\u001b[0m,\n",
       "    \u001b[1m{\u001b[0m\n",
       "        \u001b[32m'question'\u001b[0m: \u001b[32m'What steps should banks take to simplify the activation of inoperative or frozen accounts?'\u001b[0m,\n",
       "        \u001b[32m'generated_answer'\u001b[0m: \u001b[32m\"The full hands-on process would involve bank personnel to contact the account holder \u001b[0m\n",
       "\u001b[32mand then to follow up with specific steps including dialing the financial institution's phone number and of course \u001b[0m\n",
       "\u001b[32mdialing for the financial institution's customer support number, which then prompts the holder to click and enter \u001b[0m\n",
       "\u001b[32mspecific information such as magnetic stripe card or account number, debit/credit card CVV number, store location, \u001b[0m\n",
       "\u001b[32mbank location, etc., and then complete the activation process once dialing in for the appropriate phone number, and\u001b[0m\n",
       "\u001b[32mso forth. Helping bank professionals to review and advise on how to have users fix problems with \u001b[0m\n",
       "\u001b[32minoperable/closed/overpaid/inactive/incompatible accounts, as well as banking issues of course, would be of value \u001b[0m\n",
       "\u001b[32mas well,\"\u001b[0m\n",
       "    \u001b[1m}\u001b[0m,\n",
       "    \u001b[1m{\u001b[0m\n",
       "        \u001b[32m'question'\u001b[0m: \u001b[32m\"What is the purpose of the Reserve Bank of India's Master Direction on Financial Statements - \u001b[0m\n",
       "\u001b[32mPresentation and Disclosures?\"\u001b[0m,\n",
       "        \u001b[32m'generated_answer'\u001b[0m: \u001b[32m\"The purpose of the Reserve Bank of India's Master Direction on Financial Statements - \u001b[0m\n",
       "\u001b[32mPresentation and Disclosures \u001b[0m\u001b[32m(\u001b[0m\u001b[32mMDFS\u001b[0m\u001b[32m)\u001b[0m\u001b[32m is to provide guidance and suggestions to regulators, advisory institutions, \u001b[0m\n",
       "\u001b[32mand the general public regarding the preparation of financial statements and disclosure materials.\"\u001b[0m\n",
       "    \u001b[1m}\u001b[0m,\n",
       "    \u001b[1m{\u001b[0m\n",
       "        \u001b[32m'question'\u001b[0m: \u001b[32m'What is the Reserve Bank of India\\'s advice to participants in the Government Securities \u001b[0m\n",
       "\u001b[32mmarket regarding the use of the \"Price / Yield range setting\" facility on the e-Kuber platform, and what is the \u001b[0m\n",
       "\u001b[32mpolicy on bid cancellations?'\u001b[0m,\n",
       "        \u001b[32m'generated_answer'\u001b[0m: \u001b[32m'Participants may not use the facility for auctions and cross markets unless the \u001b[0m\n",
       "\u001b[32mReserve Bank of India has provided its view on the facility; only the Reserve Bank of India may get the opportunity\u001b[0m\n",
       "\u001b[32mto sever the facility from participants.'\u001b[0m\n",
       "    \u001b[1m}\u001b[0m\n",
       "\u001b[1m]\u001b[0m\n"
      ]
     },
     "metadata": {},
     "output_type": "display_data"
    }
   ],
   "source": [
    "print(generated_answers)"
   ]
  },
  {
   "cell_type": "code",
   "execution_count": null,
   "id": "d2b5ab34",
   "metadata": {},
   "outputs": [],
   "source": [
    "def evaluate_answers_with_gemini(\n",
    "    eval_dataset: Dataset,\n",
    "    generated_answers_data: List[Dict[str, str]],\n",
    "    llm: ChatGoogleGenerativeAI,\n",
    ") -> Tuple[List[Dict[str, Any]], Dict[str, Any]]:\n",
    "    \"\"\"\n",
    "    Evaluates generated answers using a Gemini LLM, returning only the score in the structured output.\n",
    "\n",
    "    Args:\n",
    "        eval_dataset (datasets.Dataset): The original dataset containing 'question',\n",
    "                                          'answer' (ground truth), and 'evaluation_criteria' fields.\n",
    "        generated_answers_data (List[Dict[str, str]]): A list of dictionaries, where each\n",
    "                                                       dictionary contains the original question\n",
    "                                                       and the 'generated_answer'.\n",
    "        llm (ChatGoogleGenerativeAI): The LangChain Gemini LLM instance.\n",
    "\n",
    "    Returns:\n",
    "        tuple: A tuple containing:\n",
    "               - list: A list of dictionaries, where each dictionary contains the original question,\n",
    "                       ground truth answer, generated answer, and evaluation score.\n",
    "               - dict: A summary dictionary of the evaluation.\n",
    "    \"\"\"\n",
    "\n",
    "    SYSTEM_MESSAGE = \"\"\"\n",
    "    You are an expert evaluator tasked with determining if an answer satisfies specified evaluation criteria.\n",
    "\n",
    "    You will receive:\n",
    "    1. A question\n",
    "    2. The evaluation criteria\n",
    "    3. The model's answer to evaluate\n",
    "\n",
    "    Provide your score based on the criteria:\n",
    "    - Score 1 if the answer fully satisfies ALL the specified criteria\n",
    "    - Score 0 if it fails to meet ANY of the criteria\n",
    "\n",
    "    Format your response as a JSON object with a single key 'score' containing just the number 1 or 0.\n",
    "    For example: {{\"score\": 1}}\n",
    "    \"\"\".strip()\n",
    "\n",
    "    PROMPT_TEMPLATE = \"\"\"\n",
    "    Question: {question}\n",
    "    Evaluation Criteria: {evaluation_criteria}\n",
    "    Model Answer: {model_answer}\n",
    "\n",
    "    Provide the evaluation score in the specified JSON format.\n",
    "    \"\"\".strip()\n",
    "\n",
    "    gemini_eval_prompt = ChatPromptTemplate.from_messages(\n",
    "        [\n",
    "            (\"system\", SYSTEM_MESSAGE),\n",
    "            (\"human\", PROMPT_TEMPLATE),\n",
    "        ]\n",
    "    )\n",
    "\n",
    "    gemini_eval_chain = gemini_eval_prompt | llm.with_structured_output(EvaluationResult)\n",
    "\n",
    "    results = []\n",
    "    total_evaluated = 0\n",
    "    total_score = 0\n",
    "    failed_evaluations_due_to_error = 0\n",
    "\n",
    "    print(f\"Evaluating answers with Gemini...\")\n",
    "    combined_data = list(zip(eval_dataset.to_list(), generated_answers_data))\n",
    "\n",
    "    for original_item, generated_item in combined_data:\n",
    "        total_evaluated += 1\n",
    "\n",
    "        question = original_item['question']\n",
    "        ground_truth_answer = original_item['answer']\n",
    "        evaluation_criteria = original_item['evaluation_criteria']\n",
    "        generated_answer = generated_item['generated_answer']\n",
    "\n",
    "        gemini_input = {\n",
    "            \"question\": question,\n",
    "            \"evaluation_criteria\": evaluation_criteria,\n",
    "            \"model_answer\": generated_answer,\n",
    "        }\n",
    "\n",
    "        score_val = 0\n",
    "\n",
    "        try:\n",
    "            structured_result = gemini_eval_chain.invoke(gemini_input)\n",
    "            score_val = structured_result.score\n",
    "            total_score += score_val\n",
    "\n",
    "        except Exception as e:\n",
    "            print(f\"Error during Gemini evaluation for question: '{question}'. Error: {e}\")\n",
    "            score_val = 0\n",
    "            failed_evaluations_due_to_error += 1\n",
    "\n",
    "        results.append({\n",
    "            \"question\": question,\n",
    "            \"ground_truth_answer\": ground_truth_answer,\n",
    "            \"generated_answer\": generated_answer,\n",
    "            \"evaluation_score\": score_val,\n",
    "        })\n",
    "\n",
    "    # Calculate summary statistics\n",
    "    successful_eval_count = total_evaluated - failed_evaluations_due_to_error\n",
    "    percentage_passed_criteria = (total_score / successful_eval_count) * 100 if successful_eval_count > 0 else 0\n",
    "\n",
    "    summary = {\n",
    "        \"total_evaluations_attempted\": total_evaluated,\n",
    "        \"successful_evaluations\": successful_eval_count,\n",
    "        \"failed_evaluations_due_to_error\": failed_evaluations_due_to_error,\n",
    "        \"total_passed_criteria\": total_score,\n",
    "        \"percentage_passed_criteria\": percentage_passed_criteria,\n",
    "        \"overall_evaluation_summary\": (\n",
    "            f\"Out of {total_evaluated} attempted evaluations, \"\n",
    "            f\"{successful_eval_count} were successfully processed by Gemini. \"\n",
    "            f\"{failed_evaluations_due_to_error} evaluations encountered an error. \"\n",
    "            f\"Among the successfully evaluated answers, {total_score} met all criteria, \"\n",
    "            f\"resulting in a {percentage_passed_criteria:.2f}% pass rate.\"\n",
    "        )\n",
    "    }\n",
    "    print(\"Gemini evaluation complete.\")\n",
    "    return results, summary\n"
   ]
  },
  {
   "cell_type": "code",
   "execution_count": 16,
   "id": "dac48e46",
   "metadata": {},
   "outputs": [
    {
     "data": {
      "text/html": [
       "<pre style=\"white-space:pre;overflow-x:auto;line-height:normal;font-family:Menlo,'DejaVu Sans Mono',consolas,'Courier New',monospace\">Evaluating answers with Gemini<span style=\"color: #808000; text-decoration-color: #808000\">...</span>\n",
       "</pre>\n"
      ],
      "text/plain": [
       "Evaluating answers with Gemini\u001b[33m...\u001b[0m\n"
      ]
     },
     "metadata": {},
     "output_type": "display_data"
    }
   ],
   "source": [
    "evaluation_results, evaluation_summary = evaluate_answers_with_gemini(\n",
    "    eval_dataset=eval_dataset, \n",
    "    generated_answers_data=generated_answers, \n",
    "    llm=llm,\n",
    ")"
   ]
  },
  {
   "cell_type": "code",
   "execution_count": 17,
   "id": "c29688b9",
   "metadata": {},
   "outputs": [
    {
     "data": {
      "text/html": [
       "<pre style=\"white-space:pre;overflow-x:auto;line-height:normal;font-family:Menlo,'DejaVu Sans Mono',consolas,'Courier New',monospace\"><span style=\"font-weight: bold\">[</span>\n",
       "    <span style=\"font-weight: bold\">{</span>\n",
       "        <span style=\"color: #008000; text-decoration-color: #008000\">'question'</span>: <span style=\"color: #008000; text-decoration-color: #008000\">'What is the general role of the Banking Regulation Act of 1949 in the context of banking </span>\n",
       "<span style=\"color: #008000; text-decoration-color: #008000\">companies in India?'</span>,\n",
       "        <span style=\"color: #008000; text-decoration-color: #008000\">'ground_truth_answer'</span>: <span style=\"color: #008000; text-decoration-color: #008000\">'The Banking Regulation Act of 1949 governs the functioning of banking companies in </span>\n",
       "<span style=\"color: #008000; text-decoration-color: #008000\">India, setting standards for their operations, management, and financial stability.'</span>,\n",
       "        <span style=\"color: #008000; text-decoration-color: #008000\">'generated_answer'</span>: <span style=\"color: #008000; text-decoration-color: #008000\">'Seven pillars of banking regulation in India: Advocacy, Coordination, Regulation, </span>\n",
       "<span style=\"color: #008000; text-decoration-color: #008000\">Supervision, Market, Enforcement and Aid. '</span>,\n",
       "        <span style=\"color: #008000; text-decoration-color: #008000\">'evaluation_score'</span>: <span style=\"color: #008080; text-decoration-color: #008080; font-weight: bold\">0</span>\n",
       "    <span style=\"font-weight: bold\">}</span>,\n",
       "    <span style=\"font-weight: bold\">{</span>\n",
       "        <span style=\"color: #008000; text-decoration-color: #008000\">'question'</span>: <span style=\"color: #008000; text-decoration-color: #008000\">'How should Nodal/Focal Point branches report April 2023 transactions, and how should they </span>\n",
       "<span style=\"color: #008000; text-decoration-color: #008000\">differentiate them from March Residual Transactions in their reporting?'</span>,\n",
       "        <span style=\"color: #008000; text-decoration-color: #008000\">'ground_truth_answer'</span>: <span style=\"color: #008000; text-decoration-color: #008000\">'Nodal/Focal Point branches must submit a monthly statement for April transactions </span>\n",
       "<span style=\"color: #008000; text-decoration-color: #008000\">to Zonal Accounts Officers/Pay and Accounts Officers in the usual format. To differentiate between April </span>\n",
       "<span style=\"color: #008000; text-decoration-color: #008000\">transactions (financial year 2023-24) and March Residual Transactions, the statement pertaining to March Residual </span>\n",
       "<span style=\"color: #008000; text-decoration-color: #008000\">Transactions should be clearly marked as \"March Residual Account\".'</span>,\n",
       "        <span style=\"color: #008000; text-decoration-color: #008000\">'generated_answer'</span>: <span style=\"color: #008000; text-decoration-color: #008000\">'}The company should create a separate folder in their Report tab for each applicable </span>\n",
       "<span style=\"color: #008000; text-decoration-color: #008000\">Nodal/Focal Point branch showing the report date for all transactions and specified date ranges of any </span>\n",
       "<span style=\"color: #008000; text-decoration-color: #008000\">developments.'</span>,\n",
       "        <span style=\"color: #008000; text-decoration-color: #008000\">'evaluation_score'</span>: <span style=\"color: #008080; text-decoration-color: #008080; font-weight: bold\">0</span>\n",
       "    <span style=\"font-weight: bold\">}</span>,\n",
       "    <span style=\"font-weight: bold\">{</span>\n",
       "        <span style=\"color: #008000; text-decoration-color: #008000\">'question'</span>: <span style=\"color: #008000; text-decoration-color: #008000\">\"What is the procedure for regulated entities to handle requests for delisting from the </span>\n",
       "<span style=\"color: #008000; text-decoration-color: #008000\">Security Council's ISIL (Da'esh) and Al-Qaida Sanctions List, and what alternative options are available for </span>\n",
       "<span style=\"color: #008000; text-decoration-color: #008000\">individuals or entities seeking removal from the list?\"</span>,\n",
       "        <span style=\"color: #008000; text-decoration-color: #008000\">'ground_truth_answer'</span>: <span style=\"color: #008000; text-decoration-color: #008000\">\"Regulated entities should forward any delisting requests they receive to the Joint </span>\n",
       "<span style=\"color: #008000; text-decoration-color: #008000\">Secretary (CTCR) at the Ministry of Home Affairs for consideration. Individuals or entities seeking removal from </span>\n",
       "<span style=\"color: #008000; text-decoration-color: #008000\">the Security Council's ISIL (Da'esh) and Al-Qaida Sanctions List can submit their request to an independent </span>\n",
       "<span style=\"color: #008000; text-decoration-color: #008000\">Ombudsperson appointed by the United Nations Secretary-General.\"</span>,\n",
       "        <span style=\"color: #008000; text-decoration-color: #008000\">'generated_answer'</span>: <span style=\"color: #008000; text-decoration-color: #008000\">'Regulated entities handle requests for delisting through regular procedures in line </span>\n",
       "<span style=\"color: #008000; text-decoration-color: #008000\">with the United Nations Security Council, as well as access to alternative options through grassroots activists and</span>\n",
       "<span style=\"color: #008000; text-decoration-color: #008000\">legal associations.'</span>,\n",
       "        <span style=\"color: #008000; text-decoration-color: #008000\">'evaluation_score'</span>: <span style=\"color: #008080; text-decoration-color: #008080; font-weight: bold\">0</span>\n",
       "    <span style=\"font-weight: bold\">}</span>,\n",
       "    <span style=\"font-weight: bold\">{</span>\n",
       "        <span style=\"color: #008000; text-decoration-color: #008000\">'question'</span>: <span style=\"color: #008000; text-decoration-color: #008000\">'How should Credit Information Companies provide individuals with access to their free annual </span>\n",
       "<span style=\"color: #008000; text-decoration-color: #008000\">credit report?'</span>,\n",
       "        <span style=\"color: #008000; text-decoration-color: #008000\">'ground_truth_answer'</span>: <span style=\"color: #008000; text-decoration-color: #008000\">\"Credit Information Companies must display a prominent link on their website's </span>\n",
       "<span style=\"color: #008000; text-decoration-color: #008000\">homepage, providing individuals easy access to their Free Full Credit Report, including their credit score, once </span>\n",
       "<span style=\"color: #008000; text-decoration-color: #008000\">per year between January and December.\"</span>,\n",
       "        <span style=\"color: #008000; text-decoration-color: #008000\">'generated_answer'</span>: <span style=\"color: #008000; text-decoration-color: #008000\">\"\\\\'Certain companies will keep your reports public and allow you to view them on the </span>\n",
       "<span style=\"color: #008000; text-decoration-color: #008000\">Federal Trade Commission website, while others will require a subscription or payment for access.\"</span>,\n",
       "        <span style=\"color: #008000; text-decoration-color: #008000\">'evaluation_score'</span>: <span style=\"color: #008080; text-decoration-color: #008080; font-weight: bold\">0</span>\n",
       "    <span style=\"font-weight: bold\">}</span>,\n",
       "    <span style=\"font-weight: bold\">{</span>\n",
       "        <span style=\"color: #008000; text-decoration-color: #008000\">'question'</span>: <span style=\"color: #008000; text-decoration-color: #008000\">'How can card issuing banks enable Card-on-File (CoFT) token generation, and what are the key </span>\n",
       "<span style=\"color: #008000; text-decoration-color: #008000\">requirements for customer consent and token availability?'</span>,\n",
       "        <span style=\"color: #008000; text-decoration-color: #008000\">'ground_truth_answer'</span>: <span style=\"color: #008000; text-decoration-color: #008000\">\"Card issuing banks can enable the generation of Card-on-File (CoFT) tokens through </span>\n",
       "<span style=\"color: #008000; text-decoration-color: #008000\">mobile and internet banking channels, provided explicit customer consent is obtained and validated using Additional</span>\n",
       "<span style=\"color: #008000; text-decoration-color: #008000\">Factor Authentication (AFA). If a cardholder selects multiple merchants for tokenization, the AFA validation can be</span>\n",
       "<span style=\"color: #008000; text-decoration-color: #008000\">combined for all of them. The generated tokens should then be available on the merchant's payment page within the </span>\n",
       "<span style=\"color: #008000; text-decoration-color: #008000\">cardholder's account.\"</span>,\n",
       "        <span style=\"color: #008000; text-decoration-color: #008000\">'generated_answer'</span>: '\\\\',\n",
       "        <span style=\"color: #008000; text-decoration-color: #008000\">'evaluation_score'</span>: <span style=\"color: #008080; text-decoration-color: #008080; font-weight: bold\">0</span>\n",
       "    <span style=\"font-weight: bold\">}</span>,\n",
       "    <span style=\"font-weight: bold\">{</span>\n",
       "        <span style=\"color: #008000; text-decoration-color: #008000\">'question'</span>: <span style=\"color: #008000; text-decoration-color: #008000\">'What are the compliance requirements for Regulated Entities concerning the Unlawful Activities</span>\n",
       "<span style=\"color: #008000; text-decoration-color: #008000\">(Prevention) Act (UAPA) Order?'</span>,\n",
       "        <span style=\"color: #008000; text-decoration-color: #008000\">'ground_truth_answer'</span>: <span style=\"color: #008000; text-decoration-color: #008000\">'Regulated Entities must adhere to the procedures outlined in the UAPA Order </span>\n",
       "<span style=\"color: #008000; text-decoration-color: #008000\">regarding individuals or entities listed, ensuring strict and meticulous compliance with government-issued orders. </span>\n",
       "<span style=\"color: #008000; text-decoration-color: #008000\">They are also required to report details of accounts resembling listed individuals/entities to FIU-IND and advise </span>\n",
       "<span style=\"color: #008000; text-decoration-color: #008000\">the Ministry of Home Affairs as required under UAPA notification.'</span>,\n",
       "        <span style=\"color: #008000; text-decoration-color: #008000\">'generated_answer'</span>: <span style=\"color: #008000; text-decoration-color: #008000\">\"Sreferences To Regulated Entities For Compliance With The Prevention Act, Order, </span>\n",
       "<span style=\"color: #008000; text-decoration-color: #008000\">Pursuant To Their Eligibilities As Personnel, Management, Agents, Or `Contractual Relationships' Under That Act.\"</span>,\n",
       "        <span style=\"color: #008000; text-decoration-color: #008000\">'evaluation_score'</span>: <span style=\"color: #008080; text-decoration-color: #008080; font-weight: bold\">0</span>\n",
       "    <span style=\"font-weight: bold\">}</span>,\n",
       "    <span style=\"font-weight: bold\">{</span>\n",
       "        <span style=\"color: #008000; text-decoration-color: #008000\">'question'</span>: <span style=\"color: #008000; text-decoration-color: #008000\">'Which bank is responsible for the lead bank responsibility in the Hojai district?'</span>,\n",
       "        <span style=\"color: #008000; text-decoration-color: #008000\">'ground_truth_answer'</span>: <span style=\"color: #008000; text-decoration-color: #008000\">'The State Bank of India has been assigned the lead bank responsibility for the </span>\n",
       "<span style=\"color: #008000; text-decoration-color: #008000\">Hojai district.'</span>,\n",
       "        <span style=\"color: #008000; text-decoration-color: #008000\">'generated_answer'</span>: <span style=\"color: #008000; text-decoration-color: #008000\">'Bank of Guyananehmen'</span>,\n",
       "        <span style=\"color: #008000; text-decoration-color: #008000\">'evaluation_score'</span>: <span style=\"color: #008080; text-decoration-color: #008080; font-weight: bold\">0</span>\n",
       "    <span style=\"font-weight: bold\">}</span>,\n",
       "    <span style=\"font-weight: bold\">{</span>\n",
       "        <span style=\"color: #008000; text-decoration-color: #008000\">'question'</span>: <span style=\"color: #008000; text-decoration-color: #008000\">'What steps should banks take to simplify the activation of inoperative or frozen accounts?'</span>,\n",
       "        <span style=\"color: #008000; text-decoration-color: #008000\">'ground_truth_answer'</span>: <span style=\"color: #008000; text-decoration-color: #008000\">'Banks should enable KYC updates through mobile/internet banking, non-home branches,</span>\n",
       "<span style=\"color: #008000; text-decoration-color: #008000\">or Video Customer Identification Process (VCIP) to streamline account activation. They should also take an </span>\n",
       "<span style=\"color: #008000; text-decoration-color: #008000\">empathetic approach when activating accounts of beneficiaries of government schemes, and organize special campaigns</span>\n",
       "<span style=\"color: #008000; text-decoration-color: #008000\">for activation. Additionally, banks may facilitate Aadhaar updates for customers through branches providing </span>\n",
       "<span style=\"color: #008000; text-decoration-color: #008000\">Aadhaar-related services.'</span>,\n",
       "        <span style=\"color: #008000; text-decoration-color: #008000\">'generated_answer'</span>: <span style=\"color: #008000; text-decoration-color: #008000\">\"The full hands-on process would involve bank personnel to contact the account holder </span>\n",
       "<span style=\"color: #008000; text-decoration-color: #008000\">and then to follow up with specific steps including dialing the financial institution's phone number and of course </span>\n",
       "<span style=\"color: #008000; text-decoration-color: #008000\">dialing for the financial institution's customer support number, which then prompts the holder to click and enter </span>\n",
       "<span style=\"color: #008000; text-decoration-color: #008000\">specific information such as magnetic stripe card or account number, debit/credit card CVV number, store location, </span>\n",
       "<span style=\"color: #008000; text-decoration-color: #008000\">bank location, etc., and then complete the activation process once dialing in for the appropriate phone number, and</span>\n",
       "<span style=\"color: #008000; text-decoration-color: #008000\">so forth. Helping bank professionals to review and advise on how to have users fix problems with </span>\n",
       "<span style=\"color: #008000; text-decoration-color: #008000\">inoperable/closed/overpaid/inactive/incompatible accounts, as well as banking issues of course, would be of value </span>\n",
       "<span style=\"color: #008000; text-decoration-color: #008000\">as well,\"</span>,\n",
       "        <span style=\"color: #008000; text-decoration-color: #008000\">'evaluation_score'</span>: <span style=\"color: #008080; text-decoration-color: #008080; font-weight: bold\">0</span>\n",
       "    <span style=\"font-weight: bold\">}</span>,\n",
       "    <span style=\"font-weight: bold\">{</span>\n",
       "        <span style=\"color: #008000; text-decoration-color: #008000\">'question'</span>: <span style=\"color: #008000; text-decoration-color: #008000\">\"What is the purpose of the Reserve Bank of India's Master Direction on Financial Statements - </span>\n",
       "<span style=\"color: #008000; text-decoration-color: #008000\">Presentation and Disclosures?\"</span>,\n",
       "        <span style=\"color: #008000; text-decoration-color: #008000\">'ground_truth_answer'</span>: <span style=\"color: #008000; text-decoration-color: #008000\">'The Master Direction harmonizes regulatory instructions regarding presentation and </span>\n",
       "<span style=\"color: #008000; text-decoration-color: #008000\">disclosure in financial statements across the banking sector.'</span>,\n",
       "        <span style=\"color: #008000; text-decoration-color: #008000\">'generated_answer'</span>: <span style=\"color: #008000; text-decoration-color: #008000\">\"The purpose of the Reserve Bank of India's Master Direction on Financial Statements - </span>\n",
       "<span style=\"color: #008000; text-decoration-color: #008000\">Presentation and Disclosures (MDFS) is to provide guidance and suggestions to regulators, advisory institutions, </span>\n",
       "<span style=\"color: #008000; text-decoration-color: #008000\">and the general public regarding the preparation of financial statements and disclosure materials.\"</span>,\n",
       "        <span style=\"color: #008000; text-decoration-color: #008000\">'evaluation_score'</span>: <span style=\"color: #008080; text-decoration-color: #008080; font-weight: bold\">0</span>\n",
       "    <span style=\"font-weight: bold\">}</span>,\n",
       "    <span style=\"font-weight: bold\">{</span>\n",
       "        <span style=\"color: #008000; text-decoration-color: #008000\">'question'</span>: <span style=\"color: #008000; text-decoration-color: #008000\">'What is the Reserve Bank of India\\'s advice to participants in the Government Securities </span>\n",
       "<span style=\"color: #008000; text-decoration-color: #008000\">market regarding the use of the \"Price / Yield range setting\" facility on the e-Kuber platform, and what is the </span>\n",
       "<span style=\"color: #008000; text-decoration-color: #008000\">policy on bid cancellations?'</span>,\n",
       "        <span style=\"color: #008000; text-decoration-color: #008000\">'ground_truth_answer'</span>: <span style=\"color: #008000; text-decoration-color: #008000\">'The Reserve Bank of India advises all participants in the Government Securities </span>\n",
       "<span style=\"color: #008000; text-decoration-color: #008000\">market to utilize the \"Price / Yield range setting\" facility available on the e-Kuber platform before submitting </span>\n",
       "<span style=\"color: #008000; text-decoration-color: #008000\">bids in Primary Market auctions. This is to prevent fat-finger errors. The policy is that no bid cancellation </span>\n",
       "<span style=\"color: #008000; text-decoration-color: #008000\">requests will be accepted after the auction window closes.'</span>,\n",
       "        <span style=\"color: #008000; text-decoration-color: #008000\">'generated_answer'</span>: <span style=\"color: #008000; text-decoration-color: #008000\">'Participants may not use the facility for auctions and cross markets unless the </span>\n",
       "<span style=\"color: #008000; text-decoration-color: #008000\">Reserve Bank of India has provided its view on the facility; only the Reserve Bank of India may get the opportunity</span>\n",
       "<span style=\"color: #008000; text-decoration-color: #008000\">to sever the facility from participants.'</span>,\n",
       "        <span style=\"color: #008000; text-decoration-color: #008000\">'evaluation_score'</span>: <span style=\"color: #008080; text-decoration-color: #008080; font-weight: bold\">0</span>\n",
       "    <span style=\"font-weight: bold\">}</span>\n",
       "<span style=\"font-weight: bold\">]</span>\n",
       "</pre>\n"
      ],
      "text/plain": [
       "\u001b[1m[\u001b[0m\n",
       "    \u001b[1m{\u001b[0m\n",
       "        \u001b[32m'question'\u001b[0m: \u001b[32m'What is the general role of the Banking Regulation Act of 1949 in the context of banking \u001b[0m\n",
       "\u001b[32mcompanies in India?'\u001b[0m,\n",
       "        \u001b[32m'ground_truth_answer'\u001b[0m: \u001b[32m'The Banking Regulation Act of 1949 governs the functioning of banking companies in \u001b[0m\n",
       "\u001b[32mIndia, setting standards for their operations, management, and financial stability.'\u001b[0m,\n",
       "        \u001b[32m'generated_answer'\u001b[0m: \u001b[32m'Seven pillars of banking regulation in India: Advocacy, Coordination, Regulation, \u001b[0m\n",
       "\u001b[32mSupervision, Market, Enforcement and Aid. '\u001b[0m,\n",
       "        \u001b[32m'evaluation_score'\u001b[0m: \u001b[1;36m0\u001b[0m\n",
       "    \u001b[1m}\u001b[0m,\n",
       "    \u001b[1m{\u001b[0m\n",
       "        \u001b[32m'question'\u001b[0m: \u001b[32m'How should Nodal/Focal Point branches report April 2023 transactions, and how should they \u001b[0m\n",
       "\u001b[32mdifferentiate them from March Residual Transactions in their reporting?'\u001b[0m,\n",
       "        \u001b[32m'ground_truth_answer'\u001b[0m: \u001b[32m'Nodal/Focal Point branches must submit a monthly statement for April transactions \u001b[0m\n",
       "\u001b[32mto Zonal Accounts Officers/Pay and Accounts Officers in the usual format. To differentiate between April \u001b[0m\n",
       "\u001b[32mtransactions \u001b[0m\u001b[32m(\u001b[0m\u001b[32mfinancial year 2023-24\u001b[0m\u001b[32m)\u001b[0m\u001b[32m and March Residual Transactions, the statement pertaining to March Residual \u001b[0m\n",
       "\u001b[32mTransactions should be clearly marked as \"March Residual Account\".'\u001b[0m,\n",
       "        \u001b[32m'generated_answer'\u001b[0m: \u001b[32m'\u001b[0m\u001b[32m}\u001b[0m\u001b[32mThe company should create a separate folder in their Report tab for each applicable \u001b[0m\n",
       "\u001b[32mNodal/Focal Point branch showing the report date for all transactions and specified date ranges of any \u001b[0m\n",
       "\u001b[32mdevelopments.'\u001b[0m,\n",
       "        \u001b[32m'evaluation_score'\u001b[0m: \u001b[1;36m0\u001b[0m\n",
       "    \u001b[1m}\u001b[0m,\n",
       "    \u001b[1m{\u001b[0m\n",
       "        \u001b[32m'question'\u001b[0m: \u001b[32m\"What is the procedure for regulated entities to handle requests for delisting from the \u001b[0m\n",
       "\u001b[32mSecurity Council's ISIL \u001b[0m\u001b[32m(\u001b[0m\u001b[32mDa'esh\u001b[0m\u001b[32m)\u001b[0m\u001b[32m and Al-Qaida Sanctions List, and what alternative options are available for \u001b[0m\n",
       "\u001b[32mindividuals or entities seeking removal from the list?\"\u001b[0m,\n",
       "        \u001b[32m'ground_truth_answer'\u001b[0m: \u001b[32m\"Regulated entities should forward any delisting requests they receive to the Joint \u001b[0m\n",
       "\u001b[32mSecretary \u001b[0m\u001b[32m(\u001b[0m\u001b[32mCTCR\u001b[0m\u001b[32m)\u001b[0m\u001b[32m at the Ministry of Home Affairs for consideration. Individuals or entities seeking removal from \u001b[0m\n",
       "\u001b[32mthe Security Council's ISIL \u001b[0m\u001b[32m(\u001b[0m\u001b[32mDa'esh\u001b[0m\u001b[32m)\u001b[0m\u001b[32m and Al-Qaida Sanctions List can submit their request to an independent \u001b[0m\n",
       "\u001b[32mOmbudsperson appointed by the United Nations Secretary-General.\"\u001b[0m,\n",
       "        \u001b[32m'generated_answer'\u001b[0m: \u001b[32m'Regulated entities handle requests for delisting through regular procedures in line \u001b[0m\n",
       "\u001b[32mwith the United Nations Security Council, as well as access to alternative options through grassroots activists and\u001b[0m\n",
       "\u001b[32mlegal associations.'\u001b[0m,\n",
       "        \u001b[32m'evaluation_score'\u001b[0m: \u001b[1;36m0\u001b[0m\n",
       "    \u001b[1m}\u001b[0m,\n",
       "    \u001b[1m{\u001b[0m\n",
       "        \u001b[32m'question'\u001b[0m: \u001b[32m'How should Credit Information Companies provide individuals with access to their free annual \u001b[0m\n",
       "\u001b[32mcredit report?'\u001b[0m,\n",
       "        \u001b[32m'ground_truth_answer'\u001b[0m: \u001b[32m\"Credit Information Companies must display a prominent link on their website's \u001b[0m\n",
       "\u001b[32mhomepage, providing individuals easy access to their Free Full Credit Report, including their credit score, once \u001b[0m\n",
       "\u001b[32mper year between January and December.\"\u001b[0m,\n",
       "        \u001b[32m'generated_answer'\u001b[0m: \u001b[32m\"\\\\'Certain companies will keep your reports public and allow you to view them on the \u001b[0m\n",
       "\u001b[32mFederal Trade Commission website, while others will require a subscription or payment for access.\"\u001b[0m,\n",
       "        \u001b[32m'evaluation_score'\u001b[0m: \u001b[1;36m0\u001b[0m\n",
       "    \u001b[1m}\u001b[0m,\n",
       "    \u001b[1m{\u001b[0m\n",
       "        \u001b[32m'question'\u001b[0m: \u001b[32m'How can card issuing banks enable Card-on-File \u001b[0m\u001b[32m(\u001b[0m\u001b[32mCoFT\u001b[0m\u001b[32m)\u001b[0m\u001b[32m token generation, and what are the key \u001b[0m\n",
       "\u001b[32mrequirements for customer consent and token availability?'\u001b[0m,\n",
       "        \u001b[32m'ground_truth_answer'\u001b[0m: \u001b[32m\"Card issuing banks can enable the generation of Card-on-File \u001b[0m\u001b[32m(\u001b[0m\u001b[32mCoFT\u001b[0m\u001b[32m)\u001b[0m\u001b[32m tokens through \u001b[0m\n",
       "\u001b[32mmobile and internet banking channels, provided explicit customer consent is obtained and validated using Additional\u001b[0m\n",
       "\u001b[32mFactor Authentication \u001b[0m\u001b[32m(\u001b[0m\u001b[32mAFA\u001b[0m\u001b[32m)\u001b[0m\u001b[32m. If a cardholder selects multiple merchants for tokenization, the AFA validation can be\u001b[0m\n",
       "\u001b[32mcombined for all of them. The generated tokens should then be available on the merchant's payment page within the \u001b[0m\n",
       "\u001b[32mcardholder's account.\"\u001b[0m,\n",
       "        \u001b[32m'generated_answer'\u001b[0m: '\\\\',\n",
       "        \u001b[32m'evaluation_score'\u001b[0m: \u001b[1;36m0\u001b[0m\n",
       "    \u001b[1m}\u001b[0m,\n",
       "    \u001b[1m{\u001b[0m\n",
       "        \u001b[32m'question'\u001b[0m: \u001b[32m'What are the compliance requirements for Regulated Entities concerning the Unlawful Activities\u001b[0m\n",
       "\u001b[32m(\u001b[0m\u001b[32mPrevention\u001b[0m\u001b[32m)\u001b[0m\u001b[32m Act \u001b[0m\u001b[32m(\u001b[0m\u001b[32mUAPA\u001b[0m\u001b[32m)\u001b[0m\u001b[32m Order?'\u001b[0m,\n",
       "        \u001b[32m'ground_truth_answer'\u001b[0m: \u001b[32m'Regulated Entities must adhere to the procedures outlined in the UAPA Order \u001b[0m\n",
       "\u001b[32mregarding individuals or entities listed, ensuring strict and meticulous compliance with government-issued orders. \u001b[0m\n",
       "\u001b[32mThey are also required to report details of accounts resembling listed individuals/entities to FIU-IND and advise \u001b[0m\n",
       "\u001b[32mthe Ministry of Home Affairs as required under UAPA notification.'\u001b[0m,\n",
       "        \u001b[32m'generated_answer'\u001b[0m: \u001b[32m\"Sreferences To Regulated Entities For Compliance With The Prevention Act, Order, \u001b[0m\n",
       "\u001b[32mPursuant To Their Eligibilities As Personnel, Management, Agents, Or `Contractual Relationships' Under That Act.\"\u001b[0m,\n",
       "        \u001b[32m'evaluation_score'\u001b[0m: \u001b[1;36m0\u001b[0m\n",
       "    \u001b[1m}\u001b[0m,\n",
       "    \u001b[1m{\u001b[0m\n",
       "        \u001b[32m'question'\u001b[0m: \u001b[32m'Which bank is responsible for the lead bank responsibility in the Hojai district?'\u001b[0m,\n",
       "        \u001b[32m'ground_truth_answer'\u001b[0m: \u001b[32m'The State Bank of India has been assigned the lead bank responsibility for the \u001b[0m\n",
       "\u001b[32mHojai district.'\u001b[0m,\n",
       "        \u001b[32m'generated_answer'\u001b[0m: \u001b[32m'Bank of Guyananehmen'\u001b[0m,\n",
       "        \u001b[32m'evaluation_score'\u001b[0m: \u001b[1;36m0\u001b[0m\n",
       "    \u001b[1m}\u001b[0m,\n",
       "    \u001b[1m{\u001b[0m\n",
       "        \u001b[32m'question'\u001b[0m: \u001b[32m'What steps should banks take to simplify the activation of inoperative or frozen accounts?'\u001b[0m,\n",
       "        \u001b[32m'ground_truth_answer'\u001b[0m: \u001b[32m'Banks should enable KYC updates through mobile/internet banking, non-home branches,\u001b[0m\n",
       "\u001b[32mor Video Customer Identification Process \u001b[0m\u001b[32m(\u001b[0m\u001b[32mVCIP\u001b[0m\u001b[32m)\u001b[0m\u001b[32m to streamline account activation. They should also take an \u001b[0m\n",
       "\u001b[32mempathetic approach when activating accounts of beneficiaries of government schemes, and organize special campaigns\u001b[0m\n",
       "\u001b[32mfor activation. Additionally, banks may facilitate Aadhaar updates for customers through branches providing \u001b[0m\n",
       "\u001b[32mAadhaar-related services.'\u001b[0m,\n",
       "        \u001b[32m'generated_answer'\u001b[0m: \u001b[32m\"The full hands-on process would involve bank personnel to contact the account holder \u001b[0m\n",
       "\u001b[32mand then to follow up with specific steps including dialing the financial institution's phone number and of course \u001b[0m\n",
       "\u001b[32mdialing for the financial institution's customer support number, which then prompts the holder to click and enter \u001b[0m\n",
       "\u001b[32mspecific information such as magnetic stripe card or account number, debit/credit card CVV number, store location, \u001b[0m\n",
       "\u001b[32mbank location, etc., and then complete the activation process once dialing in for the appropriate phone number, and\u001b[0m\n",
       "\u001b[32mso forth. Helping bank professionals to review and advise on how to have users fix problems with \u001b[0m\n",
       "\u001b[32minoperable/closed/overpaid/inactive/incompatible accounts, as well as banking issues of course, would be of value \u001b[0m\n",
       "\u001b[32mas well,\"\u001b[0m,\n",
       "        \u001b[32m'evaluation_score'\u001b[0m: \u001b[1;36m0\u001b[0m\n",
       "    \u001b[1m}\u001b[0m,\n",
       "    \u001b[1m{\u001b[0m\n",
       "        \u001b[32m'question'\u001b[0m: \u001b[32m\"What is the purpose of the Reserve Bank of India's Master Direction on Financial Statements - \u001b[0m\n",
       "\u001b[32mPresentation and Disclosures?\"\u001b[0m,\n",
       "        \u001b[32m'ground_truth_answer'\u001b[0m: \u001b[32m'The Master Direction harmonizes regulatory instructions regarding presentation and \u001b[0m\n",
       "\u001b[32mdisclosure in financial statements across the banking sector.'\u001b[0m,\n",
       "        \u001b[32m'generated_answer'\u001b[0m: \u001b[32m\"The purpose of the Reserve Bank of India's Master Direction on Financial Statements - \u001b[0m\n",
       "\u001b[32mPresentation and Disclosures \u001b[0m\u001b[32m(\u001b[0m\u001b[32mMDFS\u001b[0m\u001b[32m)\u001b[0m\u001b[32m is to provide guidance and suggestions to regulators, advisory institutions, \u001b[0m\n",
       "\u001b[32mand the general public regarding the preparation of financial statements and disclosure materials.\"\u001b[0m,\n",
       "        \u001b[32m'evaluation_score'\u001b[0m: \u001b[1;36m0\u001b[0m\n",
       "    \u001b[1m}\u001b[0m,\n",
       "    \u001b[1m{\u001b[0m\n",
       "        \u001b[32m'question'\u001b[0m: \u001b[32m'What is the Reserve Bank of India\\'s advice to participants in the Government Securities \u001b[0m\n",
       "\u001b[32mmarket regarding the use of the \"Price / Yield range setting\" facility on the e-Kuber platform, and what is the \u001b[0m\n",
       "\u001b[32mpolicy on bid cancellations?'\u001b[0m,\n",
       "        \u001b[32m'ground_truth_answer'\u001b[0m: \u001b[32m'The Reserve Bank of India advises all participants in the Government Securities \u001b[0m\n",
       "\u001b[32mmarket to utilize the \"Price / Yield range setting\" facility available on the e-Kuber platform before submitting \u001b[0m\n",
       "\u001b[32mbids in Primary Market auctions. This is to prevent fat-finger errors. The policy is that no bid cancellation \u001b[0m\n",
       "\u001b[32mrequests will be accepted after the auction window closes.'\u001b[0m,\n",
       "        \u001b[32m'generated_answer'\u001b[0m: \u001b[32m'Participants may not use the facility for auctions and cross markets unless the \u001b[0m\n",
       "\u001b[32mReserve Bank of India has provided its view on the facility; only the Reserve Bank of India may get the opportunity\u001b[0m\n",
       "\u001b[32mto sever the facility from participants.'\u001b[0m,\n",
       "        \u001b[32m'evaluation_score'\u001b[0m: \u001b[1;36m0\u001b[0m\n",
       "    \u001b[1m}\u001b[0m\n",
       "\u001b[1m]\u001b[0m\n"
      ]
     },
     "metadata": {},
     "output_type": "display_data"
    }
   ],
   "source": [
    "print(evaluation_results)"
   ]
  },
  {
   "cell_type": "code",
   "execution_count": 19,
   "id": "d6d789d5",
   "metadata": {},
   "outputs": [
    {
     "data": {
      "text/html": [
       "<pre style=\"white-space:pre;overflow-x:auto;line-height:normal;font-family:Menlo,'DejaVu Sans Mono',consolas,'Courier New',monospace\">\n",
       "--- Evaluation Summary ---\n",
       "</pre>\n"
      ],
      "text/plain": [
       "\n",
       "--- Evaluation Summary ---\n"
      ]
     },
     "metadata": {},
     "output_type": "display_data"
    },
    {
     "data": {
      "text/html": [
       "<pre style=\"white-space:pre;overflow-x:auto;line-height:normal;font-family:Menlo,'DejaVu Sans Mono',consolas,'Courier New',monospace\">Total Evaluations Attempted: <span style=\"color: #008080; text-decoration-color: #008080; font-weight: bold\">10</span>\n",
       "</pre>\n"
      ],
      "text/plain": [
       "Total Evaluations Attempted: \u001b[1;36m10\u001b[0m\n"
      ]
     },
     "metadata": {},
     "output_type": "display_data"
    },
    {
     "data": {
      "text/html": [
       "<pre style=\"white-space:pre;overflow-x:auto;line-height:normal;font-family:Menlo,'DejaVu Sans Mono',consolas,'Courier New',monospace\">Evaluations Failed Due to Error: <span style=\"color: #008080; text-decoration-color: #008080; font-weight: bold\">0</span>\n",
       "</pre>\n"
      ],
      "text/plain": [
       "Evaluations Failed Due to Error: \u001b[1;36m0\u001b[0m\n"
      ]
     },
     "metadata": {},
     "output_type": "display_data"
    },
    {
     "data": {
      "text/html": [
       "<pre style=\"white-space:pre;overflow-x:auto;line-height:normal;font-family:Menlo,'DejaVu Sans Mono',consolas,'Courier New',monospace\">Total Answers Passed Criteria <span style=\"font-weight: bold\">(</span>Score <span style=\"color: #008080; text-decoration-color: #008080; font-weight: bold\">1</span><span style=\"font-weight: bold\">)</span>: <span style=\"color: #008080; text-decoration-color: #008080; font-weight: bold\">0</span>\n",
       "</pre>\n"
      ],
      "text/plain": [
       "Total Answers Passed Criteria \u001b[1m(\u001b[0mScore \u001b[1;36m1\u001b[0m\u001b[1m)\u001b[0m: \u001b[1;36m0\u001b[0m\n"
      ]
     },
     "metadata": {},
     "output_type": "display_data"
    },
    {
     "data": {
      "text/html": [
       "<pre style=\"white-space:pre;overflow-x:auto;line-height:normal;font-family:Menlo,'DejaVu Sans Mono',consolas,'Courier New',monospace\">Percentage of Successfully Evaluated Answers Passing Criteria: <span style=\"color: #008080; text-decoration-color: #008080; font-weight: bold\">0.00</span>%\n",
       "</pre>\n"
      ],
      "text/plain": [
       "Percentage of Successfully Evaluated Answers Passing Criteria: \u001b[1;36m0.00\u001b[0m%\n"
      ]
     },
     "metadata": {},
     "output_type": "display_data"
    },
    {
     "data": {
      "text/html": [
       "<pre style=\"white-space:pre;overflow-x:auto;line-height:normal;font-family:Menlo,'DejaVu Sans Mono',consolas,'Courier New',monospace\">Overall Summary: Out of <span style=\"color: #008080; text-decoration-color: #008080; font-weight: bold\">10</span> attempted evaluations, <span style=\"color: #008080; text-decoration-color: #008080; font-weight: bold\">10</span> were successfully processed by Gemini. <span style=\"color: #008080; text-decoration-color: #008080; font-weight: bold\">0</span> evaluations \n",
       "encountered an error. Among the successfully evaluated answers, <span style=\"color: #008080; text-decoration-color: #008080; font-weight: bold\">0</span> met all criteria, resulting in a <span style=\"color: #008080; text-decoration-color: #008080; font-weight: bold\">0.00</span>% pass rate.\n",
       "</pre>\n"
      ],
      "text/plain": [
       "Overall Summary: Out of \u001b[1;36m10\u001b[0m attempted evaluations, \u001b[1;36m10\u001b[0m were successfully processed by Gemini. \u001b[1;36m0\u001b[0m evaluations \n",
       "encountered an error. Among the successfully evaluated answers, \u001b[1;36m0\u001b[0m met all criteria, resulting in a \u001b[1;36m0.00\u001b[0m% pass rate.\n"
      ]
     },
     "metadata": {},
     "output_type": "display_data"
    }
   ],
   "source": [
    "\n",
    "print(\"\\n--- Evaluation Summary ---\")\n",
    "summary_stats = evaluation_summary\n",
    "print(f\"Total Evaluations Attempted: {summary_stats['total_evaluations_attempted']}\")\n",
    "print(f\"Evaluations Failed Due to Error: {summary_stats['failed_evaluations_due_to_error']}\")\n",
    "print(f\"Total Answers Passed Criteria (Score 1): {summary_stats['total_passed_criteria']}\")\n",
    "print(f\"Percentage of Successfully Evaluated Answers Passing Criteria: {summary_stats['percentage_passed_criteria']:.2f}%\")\n",
    "print(f\"Overall Summary: {summary_stats['overall_evaluation_summary']}\")"
   ]
  }
 ],
 "metadata": {
  "kernelspec": {
   "display_name": "Python 3",
   "language": "python",
   "name": "python3"
  },
  "language_info": {
   "codemirror_mode": {
    "name": "ipython",
    "version": 3
   },
   "file_extension": ".py",
   "mimetype": "text/x-python",
   "name": "python",
   "nbconvert_exporter": "python",
   "pygments_lexer": "ipython3",
   "version": "3.10.17"
  }
 },
 "nbformat": 4,
 "nbformat_minor": 5
}
