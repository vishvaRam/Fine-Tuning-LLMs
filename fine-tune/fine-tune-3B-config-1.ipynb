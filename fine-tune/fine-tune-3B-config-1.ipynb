{
 "cells": [
  {
   "cell_type": "markdown",
   "id": "3daa2692",
   "metadata": {},
   "source": [
    "# RBI LLM Fine-Tuning\n",
    "\n",
    "This notebook contains the code for fine-tuning a language model on RBI (Reserve Bank of India) banking regulations and circulars. The model will be trained to answer questions related to Indian banking regulations."
   ]
  },
  {
   "cell_type": "markdown",
   "id": "e204533d",
   "metadata": {},
   "source": [
    "## Setup and Imports\n",
    "\n",
    "Importing necessary libraries and setting up environment variables."
   ]
  },
  {
   "cell_type": "code",
   "execution_count": null,
   "id": "0437999d-1416-4ac6-841b-ac966386a177",
   "metadata": {},
   "outputs": [],
   "source": [
    "# !pip install transformers hf_transfer datasets peft matplotlib bitsandbytes accelerate tensorboard"
   ]
  },
  {
   "cell_type": "code",
   "execution_count": null,
   "id": "697999b3-3965-42d7-9e93-19df4bdbab62",
   "metadata": {},
   "outputs": [],
   "source": [
    "# Expose 6006 for tensorboard"
   ]
  },
  {
   "cell_type": "code",
   "execution_count": 1,
   "id": "7c1cc67f",
   "metadata": {},
   "outputs": [],
   "source": [
    "import torch\n",
    "import torch.nn as nn\n",
    "from datasets import load_dataset\n",
    "from transformers import (\n",
    "    AutoModelForCausalLM,\n",
    "    AutoTokenizer,\n",
    "    TrainingArguments,\n",
    "    Trainer,\n",
    "    DataCollatorForLanguageModeling,\n",
    "    BitsAndBytesConfig,\n",
    "    EarlyStoppingCallback\n",
    ")\n",
    "from peft import LoraConfig, get_peft_model, prepare_model_for_kbit_training\n",
    "import matplotlib.pyplot as plt\n",
    "import os\n",
    "from sklearn.metrics import accuracy_score\n",
    "import numpy as np"
   ]
  },
  {
   "cell_type": "code",
   "execution_count": 2,
   "id": "10d2c0c5",
   "metadata": {},
   "outputs": [
    {
     "name": "stdout",
     "output_type": "stream",
     "text": [
      "PyTorch Version: 2.7.1+cu126\n",
      "CUDA Available: True\n",
      "CUDA Version: 12.6\n",
      "cuDNN Version: 90501\n",
      "GPU Name: NVIDIA GeForce RTX 4090\n",
      "GPU Capability: (8, 9)\n",
      "BFloat16 Supported: True\n",
      "Compute Capability: 8.9\n",
      "Native BF16 Support (>=8.0): True\n",
      "Will Use: BF16\n"
     ]
    }
   ],
   "source": [
    "print(f\"PyTorch Version: {torch.__version__}\")\n",
    "print(f\"CUDA Available: {torch.cuda.is_available()}\")\n",
    "\n",
    "if torch.cuda.is_available():\n",
    "    print(f\"CUDA Version: {torch.version.cuda}\")\n",
    "    print(f\"cuDNN Version: {torch.backends.cudnn.version()}\")\n",
    "    print(f\"GPU Name: {torch.cuda.get_device_name(0)}\")\n",
    "    print(f\"GPU Capability: {torch.cuda.get_device_capability(0)}\")\n",
    "    \n",
    "    # Add bfloat16 information\n",
    "    bf16_supported = torch.cuda.is_bf16_supported()\n",
    "    print(f\"BFloat16 Supported: {bf16_supported}\")\n",
    "    \n",
    "    # Additional compute capability analysis for bf16\n",
    "    compute_cap = torch.cuda.get_device_capability(0)\n",
    "    compute_version = compute_cap[0] + compute_cap[1] * 0.1\n",
    "    native_bf16 = compute_version >= 8.0\n",
    "    print(f\"Compute Capability: {compute_version}\")\n",
    "    print(f\"Native BF16 Support (>=8.0): {native_bf16}\")\n",
    "    \n",
    "    # Show which precision will be used\n",
    "    will_use_bf16 = bf16_supported and native_bf16\n",
    "    print(f\"Will Use: {'BF16' if will_use_bf16 else 'FP16'}\")\n",
    "    \n",
    "else:\n",
    "    print(\"CUDA not available - will use FP16 for CPU training\")"
   ]
  },
  {
   "cell_type": "code",
   "execution_count": 3,
   "id": "a5eda30d",
   "metadata": {},
   "outputs": [],
   "source": [
    "PARA = 3\n",
    "MODEL_NAME = f\"Qwen/Qwen2.5-{PARA}B-Instruct\"\n",
    "MODEL_PATH = \"./Models\"\n",
    "MODEL_OUTPUT_DIR = f\"./Models/Qwen2.5-{PARA}B-Instruct-RBI-QA\"\n",
    "DATASET_NAME = \"Vishva007/RBI-Circular-QA-Dataset\"\n",
    "MODEL_ADOPTOR_REPO_ID = f\"Vishva007/Qwen2.5-{PARA}B-Instruct-RBI-QA-Adoptor\"\n",
    "SEED = 42# type: ignore"
   ]
  },
  {
   "cell_type": "code",
   "execution_count": 4,
   "id": "07b9494d",
   "metadata": {},
   "outputs": [],
   "source": [
    "os.environ['PYTORCH_CUDA_ALLOC_CONF'] = 'expandable_segments:True'\n",
    "os.environ['HF_HUB_ENABLE_HF_TRANSFER'] = '1'\n",
    "os.environ['TOKENIZERS_PARALLELISM'] = 'true'"
   ]
  },
  {
   "cell_type": "code",
   "execution_count": 5,
   "id": "53cea844",
   "metadata": {},
   "outputs": [
    {
     "name": "stdout",
     "output_type": "stream",
     "text": [
      "<|endoftext|>\n",
      "<|im_end|>\n"
     ]
    }
   ],
   "source": [
    "tokenizer = AutoTokenizer.from_pretrained(MODEL_NAME, use_fast=True, trust_remote_code=True,cache_dir=MODEL_PATH)\n",
    "if not tokenizer.pad_token:\n",
    "    print(\"Pad token is missing, setting it to EOS token.\")\n",
    "    tokenizer.pad_token = tokenizer.eos_token  # Set pad token if it's missing\n",
    "tokenizer.padding_side = \"left\"  # IMPORTANT: Set padding_side to 'left' BEFORE tokenizing\n",
    "print(tokenizer.pad_token)\n",
    "print(tokenizer.eos_token)"
   ]
  },
  {
   "cell_type": "markdown",
   "id": "03f0b059",
   "metadata": {},
   "source": [
    "## Dataset Preparation\n",
    "\n",
    "Loading and preparing the dataset containing RBI circulars and question-answer pairs."
   ]
  },
  {
   "cell_type": "code",
   "execution_count": 6,
   "id": "1b602242",
   "metadata": {},
   "outputs": [
    {
     "name": "stdout",
     "output_type": "stream",
     "text": [
      "Dataset loaded with 12000 samples.\n",
      "Dataset({\n",
      "    features: ['document', 'filename', 'model_name', 'regulation_area', 'applicable_to', 'issued_on', 'key_topics', 'chunks_text', 'is_table', 'question', 'answer', 'evaluation_criteria', 'category', 'estimated_difficulty', 'rephrased_question', 'rephrased_answer'],\n",
      "    num_rows: 12000\n",
      "})\n"
     ]
    }
   ],
   "source": [
    "dataset = load_dataset(DATASET_NAME, split=\"train\") # type: ignore\n",
    "print(f\"Dataset loaded with {len(dataset)} samples.\") # type: ignore\n",
    "print(dataset)"
   ]
  },
  {
   "cell_type": "code",
   "execution_count": 7,
   "id": "9869ba10",
   "metadata": {},
   "outputs": [],
   "source": [
    "sys_prompt = \"\"\"\n",
    "You are a highly knowledgeable AI assistant with expertise in Indian banking and financial regulations, \n",
    "particularly those outlined in Reserve Bank of India (RBI) circulars.\n",
    "Your task is to answer questions based on the RBI circulars and related financial regulations.\n",
    "\"\"\"\n",
    "\n",
    "def format_data(sample):\n",
    "    messages = [\n",
    "        {\"role\": \"system\", \"content\": sys_prompt},\n",
    "        {\"role\": \"user\", \"content\": sample[\"question\"]},\n",
    "        {\"role\": \"assistant\", \"content\": sample[\"answer\"]}\n",
    "    ]\n",
    "    # apply_chat_template will convert the list of messages into a single string\n",
    "    # for the model input, adding control tokens like <s> and </s> if the model\n",
    "    # supports them. `tokenize=False` ensures it returns a string, not token IDs.\n",
    "    formatted_prompt = tokenizer.apply_chat_template(messages, tokenize=False, add_generation_prompt=False)\n",
    "    return {\"text\": formatted_prompt}"
   ]
  },
  {
   "cell_type": "code",
   "execution_count": 8,
   "id": "94afbaf2",
   "metadata": {},
   "outputs": [],
   "source": [
    "dataset = dataset.map(format_data).filter(lambda x: x is not None and x[\"text\"] is not None)"
   ]
  },
  {
   "cell_type": "code",
   "execution_count": 9,
   "id": "a8901f6e",
   "metadata": {},
   "outputs": [
    {
     "name": "stdout",
     "output_type": "stream",
     "text": [
      "<|im_start|>system\n",
      "\n",
      "You are a highly knowledgeable AI assistant with expertise in Indian banking and financial regulations, \n",
      "particularly those outlined in Reserve Bank of India (RBI) circulars.\n",
      "Your task is to answer questions based on the RBI circulars and related financial regulations.\n",
      "<|im_end|>\n",
      "<|im_start|>user\n",
      "What was the Reserve Bank of India's policy regarding the delayed submission of regulatory returns in light of the COVID-19 pandemic, and which types of returns were excluded from this policy?<|im_end|>\n",
      "<|im_start|>assistant\n",
      "Due to disruptions caused by the COVID-19 pandemic, the Reserve Bank of India allowed regulated entities to submit regulatory returns to the Department of Regulation with a delay of up to 30 days from the original due date. However, this extension did not apply to statutory returns, such as those prescribed under the Banking Regulation Act, the RBI Act, or any other relevant legislation.<|im_end|>\n",
      "\n"
     ]
    }
   ],
   "source": [
    "print(dataset[5]['text'])"
   ]
  },
  {
   "cell_type": "code",
   "execution_count": 10,
   "id": "a9a2264a",
   "metadata": {},
   "outputs": [],
   "source": [
    "def tokenize_function(examples):\n",
    "    # Tokenize the texts with padding and truncation\n",
    "    return tokenizer(examples[\"text\"], padding=\"max_length\", truncation=True, max_length=512)\n"
   ]
  },
  {
   "cell_type": "code",
   "execution_count": 11,
   "id": "391cf0b0",
   "metadata": {},
   "outputs": [],
   "source": [
    "tokenized_dataset = dataset.map(\n",
    "    tokenize_function,\n",
    "    batched=True,\n",
    "    remove_columns=['document', 'filename', 'model_name', 'regulation_area', 'applicable_to', 'issued_on', 'key_topics',\n",
    "'chunks_text', 'is_table', 'question', 'answer', 'evaluation_criteria', 'category', 'estimated_difficulty', \n",
    "'rephrased_question', 'rephrased_answer','text'],\n",
    ")\n"
   ]
  },
  {
   "cell_type": "code",
   "execution_count": 12,
   "id": "cffa66c5",
   "metadata": {},
   "outputs": [],
   "source": [
    "train_test_split = tokenized_dataset.train_test_split(test_size=0.15, seed=42)\n",
    "train_dataset = train_test_split[\"train\"]\n",
    "eval_dataset = train_test_split[\"test\"]"
   ]
  },
  {
   "cell_type": "code",
   "execution_count": 13,
   "id": "1d559cc8",
   "metadata": {},
   "outputs": [
    {
     "name": "stdout",
     "output_type": "stream",
     "text": [
      "Formatted dataset with 12000 samples.\n",
      "{'document': 'RBI_2019-2020_228DOR.BP.BC.No.68_21.04.018_2019-20_2020-04-30', 'filename': 'RBI_2019-2020_228DOR.BP.BC.No.68_21.04.018_2019-20_2020-04-30_text_part1.txt', 'model_name': 'models/gemini-2.0-flash', 'regulation_area': 'Regulation of Banks and Financial Institutions', 'applicable_to': 'All Scheduled Commercial Banks, Payments Banks, Local Area Banks, All India Financial Institutions, All Co-operative Banks', 'issued_on': '2020-04-29', 'key_topics': ['Extension of timelines for regulatory returns', 'Submission of regulatory returns', 'COVID-19 pandemic related relaxations', 'Statutory returns'], 'chunks_text': '![](_page_0_Picture_0.jpeg)\\n\\n## भारतीय �रजवर्ब�क  **RESERVE BANK OF INDIA www.rbi.org.in**\\n\\nRBI/2019-20/228 DOR.BP.BC.No.68/21.04.018/2019-20 April 29, 2020\\n\\nAll Scheduled Commercial Banks (including RRBs and Small Finance Banks), Payments Banks and Local Area Banks, All India Financial Institutions, All Co-operative Banks,\\n\\nMadam / Dear Sir,\\n\\n## **Submission of regulatory returns - Extension of timelines**\\n\\nIn order to mitigate the difficulties in timely submission of various regulatory returns, in view of disruptions on account of COVID-19 pandemic, it has been decided to extend the timelines for their submission.\\n\\n2. Accordingly, all regulatory returns required to be submitted by the above entities to the Department of Regulation can be submitted with a delay of upto 30 days from the due date. The extension will be applicable to regulatory returns required to be submitted upto June 30, 2020. Further details are furnished in the [Annex.](#page-1-0) Those entities that are in a position to submit the returns earlier may continue to do so.\\n\\n3. It may be noted that no extension in timeline is permitted for submission of statutory returns i.e. returns prescribed under the Banking Regulation Act, 1949, RBI Act, 1934 or any other Act (for instance, returns related to CRR/SLR).\\n\\n4. Further, all communication to the Department of Regulation should be through corporate e-mail to the extent possible (i.e., without involving physical movement of papers). This arrangement shall continue till further notice.\\n\\nYours faithfully,\\n\\n(Saurav Sinha) Chief General Manager-in-Charge\\n\\n> िविनयमन िवभाग,क��ीय कायार्लय, 12 व� और 13 व� मंिजल, क��ीय कायार्लय भवन, शहीद भगत �संह मागर्,फोटर्,मुंबई-400001 दूरभाष: 022-22601000 फै क्स: 022-22705691 ई-मेल: cgmicdor@rbi.org.in\\n\\n\\\\_\\\\_\\\\_\\\\_\\\\_\\\\_\\\\_\\\\_\\\\_\\\\_\\\\_\\\\_\\\\_\\\\_\\\\_\\\\_\\\\_\\\\_\\\\_\\\\_\\\\_\\\\_\\\\_\\\\_\\\\_\\\\_\\\\_\\\\_\\\\_\\\\_\\\\_\\\\_\\\\_\\\\_\\\\_\\\\_\\\\_\\\\_\\\\_\\\\_\\\\_\\\\_\\\\_\\\\_\\\\_\\\\_\\\\_\\\\_\\\\_\\\\_\\\\_\\\\_\\\\_\\\\_\\\\_\\\\_\\\\_\\\\_\\\\_\\\\_\\\\_\\\\_\\\\_\\\\_\\\\_\\\\_\\\\_\\\\_\\\\_\\\\_\\\\_\\\\_\\\\_\\\\_\\\\_\\\\_\\\\_\\\\_\\\\_\\\\_\\\\_\\\\_\\\\_\\\\_\\\\_\\\\_\\\\_\\\\_\\\\_\\\\_\\\\_\\\\_\\\\_\\\\_\\\\_\\\\_\\\\_\\\\_\\\\_\\\\_\\\\_\\\\_\\\\_\\\\_\\\\_\\\\_\\\\_\\\\_\\\\_\\\\_\\\\_\\\\_\\\\_\\\\_\\\\_\\\\_\\\\_\\\\_\\\\_\\\\_\\\\_\\\\_\\\\_\\\\_\\\\_\\\\_\\\\_\\\\_\\\\_\\\\_\\\\_\\\\_\\\\_\\\\_\\\\_ Department of Regulation, Central Office, 12th and 13th Floor, Central Office Building, Shahid Bhagat Singh Marg, Fort, Mumbai- 400 001 Tel: 022- 2260 1000 Fax: 022-2270 5691 email: cgmicdor@rbi.org.in\\n\\n![](_page_0_Picture_15.jpeg)\\n\\n<span id=\"page-1-0\"></span>\\n\\n\\n## **Annex: List of regulatory returns which can be submitted with a delay of a maximum of 30 days from the due date**\\n\\n\\n', 'is_table': False, 'question': 'What relaxations were provided by the Reserve Bank of India regarding the submission of regulatory returns in light of the COVID-19 pandemic?', 'answer': 'Due to disruptions caused by the COVID-19 pandemic, the Reserve Bank of India allowed regulated entities to submit regulatory returns with a delay of up to 30 days from the original due date. This extension was applicable to returns required to be submitted up to June 30, 2020.', 'evaluation_criteria': 'The answer should accurately state the reason for the extension, the length of the extension, and the period for which it was applicable.', 'category': 'fact-based', 'estimated_difficulty': 3, 'rephrased_question': '', 'rephrased_answer': '', 'text': '<|im_start|>system\\n\\nYou are a highly knowledgeable AI assistant with expertise in Indian banking and financial regulations, \\nparticularly those outlined in Reserve Bank of India (RBI) circulars.\\nYour task is to answer questions based on the RBI circulars and related financial regulations.\\n<|im_end|>\\n<|im_start|>user\\nWhat relaxations were provided by the Reserve Bank of India regarding the submission of regulatory returns in light of the COVID-19 pandemic?<|im_end|>\\n<|im_start|>assistant\\nDue to disruptions caused by the COVID-19 pandemic, the Reserve Bank of India allowed regulated entities to submit regulatory returns with a delay of up to 30 days from the original due date. This extension was applicable to returns required to be submitted up to June 30, 2020.<|im_end|>\\n'}\n",
      "Train dataset size: 10200\n",
      "Eval dataset size: 1800\n"
     ]
    }
   ],
   "source": [
    "print(f\"Formatted dataset with {len(dataset)} samples.\")\n",
    "print(dataset[0])\n",
    "print(f\"Train dataset size: {len(train_dataset)}\")\n",
    "print(f\"Eval dataset size: {len(eval_dataset)}\")"
   ]
  },
  {
   "cell_type": "markdown",
   "id": "2fc41545",
   "metadata": {},
   "source": [
    "## Model Configuration\n",
    "\n",
    "Configuring the model architecture and tokenizer for fine-tuning."
   ]
  },
  {
   "cell_type": "code",
   "execution_count": 14,
   "id": "b2610d07",
   "metadata": {},
   "outputs": [],
   "source": [
    "quantization_config = BitsAndBytesConfig(\n",
    "    load_in_4bit=True,\n",
    "    bnb_4bit_compute_dtype=torch.bfloat16,\n",
    "    bnb_4bit_quant_type=\"nf4\",\n",
    "    bnb_4bit_use_double_quant=True,\n",
    ")"
   ]
  },
  {
   "cell_type": "code",
   "execution_count": 15,
   "id": "5bc23fd7",
   "metadata": {},
   "outputs": [
    {
     "data": {
      "application/vnd.jupyter.widget-view+json": {
       "model_id": "42903720abcc4c9592dee4cd46d6ea6c",
       "version_major": 2,
       "version_minor": 0
      },
      "text/plain": [
       "Loading checkpoint shards:   0%|          | 0/2 [00:00<?, ?it/s]"
      ]
     },
     "metadata": {},
     "output_type": "display_data"
    },
    {
     "name": "stdout",
     "output_type": "stream",
     "text": [
      "Qwen2ForCausalLM(\n",
      "  (model): Qwen2Model(\n",
      "    (embed_tokens): Embedding(151936, 2048)\n",
      "    (layers): ModuleList(\n",
      "      (0-35): 36 x Qwen2DecoderLayer(\n",
      "        (self_attn): Qwen2Attention(\n",
      "          (q_proj): Linear4bit(in_features=2048, out_features=2048, bias=True)\n",
      "          (k_proj): Linear4bit(in_features=2048, out_features=256, bias=True)\n",
      "          (v_proj): Linear4bit(in_features=2048, out_features=256, bias=True)\n",
      "          (o_proj): Linear4bit(in_features=2048, out_features=2048, bias=False)\n",
      "        )\n",
      "        (mlp): Qwen2MLP(\n",
      "          (gate_proj): Linear4bit(in_features=2048, out_features=11008, bias=False)\n",
      "          (up_proj): Linear4bit(in_features=2048, out_features=11008, bias=False)\n",
      "          (down_proj): Linear4bit(in_features=11008, out_features=2048, bias=False)\n",
      "          (act_fn): SiLU()\n",
      "        )\n",
      "        (input_layernorm): Qwen2RMSNorm((2048,), eps=1e-06)\n",
      "        (post_attention_layernorm): Qwen2RMSNorm((2048,), eps=1e-06)\n",
      "      )\n",
      "    )\n",
      "    (norm): Qwen2RMSNorm((2048,), eps=1e-06)\n",
      "    (rotary_emb): Qwen2RotaryEmbedding()\n",
      "  )\n",
      "  (lm_head): Linear(in_features=2048, out_features=151936, bias=False)\n",
      ")\n"
     ]
    }
   ],
   "source": [
    "model = AutoModelForCausalLM.from_pretrained(\n",
    "    MODEL_NAME,\n",
    "    torch_dtype=\"auto\",\n",
    "    device_map=\"auto\",\n",
    "    trust_remote_code=True,\n",
    "    attn_implementation=\"flash_attention_2\",\n",
    "    cache_dir=MODEL_PATH,\n",
    "    quantization_config=quantization_config\n",
    ")\n",
    "print(model)"
   ]
  },
  {
   "cell_type": "markdown",
   "id": "ab7dbb0c",
   "metadata": {},
   "source": [
    "## Training Configuration\n",
    "\n",
    "Setting up the training parameters and callbacks for model fine-tuning."
   ]
  },
  {
   "cell_type": "code",
   "execution_count": 16,
   "id": "74b48bc8",
   "metadata": {},
   "outputs": [],
   "source": [
    "model = prepare_model_for_kbit_training(model)"
   ]
  },
  {
   "cell_type": "code",
   "execution_count": 17,
   "id": "6a804f41",
   "metadata": {},
   "outputs": [],
   "source": [
    "lora_config = LoraConfig(\n",
    "    r=32,\n",
    "    lora_alpha=64,\n",
    "    use_rslora=True,\n",
    "    lora_dropout=0.1,\n",
    "    bias=\"none\",\n",
    "    task_type=\"CAUSAL_LM\",\n",
    "    target_modules=[\n",
    "        \"q_proj\",\"k_proj\",\"v_proj\",\"o_proj\",\n",
    "        # \"gate_proj\",\"up_proj\",\"down_proj\",\n",
    "    ],\n",
    ")"
   ]
  },
  {
   "cell_type": "code",
   "execution_count": 18,
   "id": "4cda5239",
   "metadata": {},
   "outputs": [
    {
     "name": "stdout",
     "output_type": "stream",
     "text": [
      "trainable params: 14,745,600 || all params: 3,100,684,288 || trainable%: 0.4756\n"
     ]
    }
   ],
   "source": [
    "model = get_peft_model(model, lora_config)\n",
    "model.print_trainable_parameters()"
   ]
  },
  {
   "cell_type": "code",
   "execution_count": 19,
   "id": "8e64f6c8",
   "metadata": {},
   "outputs": [],
   "source": [
    "data_collator = DataCollatorForLanguageModeling(\n",
    "    tokenizer=tokenizer,\n",
    "    mlm=False,  # Set to False for causal LM (not masked LM)\n",
    "    return_tensors=\"pt\"\n",
    ")"
   ]
  },
  {
   "cell_type": "markdown",
   "id": "385e55a4",
   "metadata": {},
   "source": [
    "## Learning rates\n",
    "\n",
    "For a 1B model: 0.0002 : 2e-4\n",
    "\n",
    "For a 3B model: 0.0001 : 1e-4\n",
    "\n",
    "For an 8B model: 0.00002 : 2e-5\n",
    "\n",
    "For a 30B model: 0.000005 : 5e-6\n"
   ]
  },
  {
   "cell_type": "code",
   "execution_count": 20,
   "id": "e3efe90e",
   "metadata": {},
   "outputs": [],
   "source": [
    "training_args = TrainingArguments(\n",
    "    output_dir=MODEL_OUTPUT_DIR,\n",
    "    \n",
    "    num_train_epochs=2, \n",
    "    per_device_train_batch_size=12,\n",
    "    gradient_accumulation_steps=2,\n",
    "    per_device_eval_batch_size=12, \n",
    "    eval_accumulation_steps=2,\n",
    "    \n",
    "    # max_steps=200,\n",
    "    learning_rate=2e-4,              # Slightly higher LR for rsLoRA\n",
    "    optim=\"paged_adamw_8bit\",\n",
    "    lr_scheduler_type=\"cosine\",\n",
    "    warmup_ratio=0.1,\n",
    "    \n",
    "    fp16=not torch.cuda.is_bf16_supported(),\n",
    "    bf16=torch.cuda.is_bf16_supported(),\n",
    "    \n",
    "    eval_strategy=\"steps\",\n",
    "    eval_steps=400,  \n",
    "    save_strategy=\"steps\",\n",
    "    save_steps=400,\n",
    "    save_total_limit=2,\n",
    "    load_best_model_at_end=True,\n",
    "    metric_for_best_model=\"eval_loss\",\n",
    "    greater_is_better=False,\n",
    "    \n",
    "    push_to_hub=False,\n",
    "    remove_unused_columns=False,\n",
    "    \n",
    "    logging_dir=\"./logs\",\n",
    "    logging_steps=50,\n",
    "    report_to=\"tensorboard\",\n",
    "    \n",
    "    gradient_checkpointing=True,\n",
    "    gradient_checkpointing_kwargs={\"use_reentrant\": False},\n",
    "    dataloader_pin_memory=False,    # Disable pin memory to save GPU memory\n",
    "    dataloader_num_workers=0,       # Use single worker to save memory\n",
    "    max_grad_norm=1.0,              # Add gradient clipping\n",
    "    group_by_length=False,          # Disable to save memory\n",
    "    length_column_name=None, \n",
    ")"
   ]
  },
  {
   "cell_type": "markdown",
   "id": "2f858221",
   "metadata": {},
   "source": [
    "### Tensorboard \n",
    "\n",
    "pip install tensorboard\n",
    "\n",
    "cd ../workspace\n",
    "\n",
    "tensorboard --logdir ./logs --host 0.0.0.0 --port 6006 --reload_interval 5\n",
    "\n",
    "https://[pod_id]-6006.proxy.runpod.net/"
   ]
  },
  {
   "cell_type": "code",
   "execution_count": 21,
   "id": "f8979dd6",
   "metadata": {},
   "outputs": [
    {
     "name": "stderr",
     "output_type": "stream",
     "text": [
      "No label_names provided for model class `PeftModelForCausalLM`. Since `PeftModel` hides base models input arguments, if label_names is not given, label_names can't be set automatically within `Trainer`. Note that empty label_names list will be used instead.\n"
     ]
    }
   ],
   "source": [
    "\n",
    "# 7. Initialize the Trainer\n",
    "trainer = Trainer(\n",
    "    model=model,\n",
    "    train_dataset=train_dataset,\n",
    "    eval_dataset=eval_dataset,\n",
    "    args=training_args,\n",
    "    data_collator=data_collator,\n",
    "    callbacks=[EarlyStoppingCallback(early_stopping_patience=2, early_stopping_threshold=0.01)]\n",
    ")\n"
   ]
  },
  {
   "cell_type": "code",
   "execution_count": 22,
   "id": "26d104df",
   "metadata": {},
   "outputs": [
    {
     "name": "stderr",
     "output_type": "stream",
     "text": [
      "`use_cache=True` is incompatible with gradient checkpointing. Setting `use_cache=False`.\n",
      "The input hidden states seems to be silently casted in float32, this might be related to the fact you have upcasted embedding or layer norm layers in float32. We will cast back the input in torch.bfloat16.\n"
     ]
    },
    {
     "data": {
      "text/html": [
       "\n",
       "    <div>\n",
       "      \n",
       "      <progress value='850' max='850' style='width:300px; height:20px; vertical-align: middle;'></progress>\n",
       "      [850/850 45:35, Epoch 2/2]\n",
       "    </div>\n",
       "    <table border=\"1\" class=\"dataframe\">\n",
       "  <thead>\n",
       " <tr style=\"text-align: left;\">\n",
       "      <th>Step</th>\n",
       "      <th>Training Loss</th>\n",
       "      <th>Validation Loss</th>\n",
       "    </tr>\n",
       "  </thead>\n",
       "  <tbody>\n",
       "    <tr>\n",
       "      <td>400</td>\n",
       "      <td>0.825600</td>\n",
       "      <td>0.810126</td>\n",
       "    </tr>\n",
       "    <tr>\n",
       "      <td>800</td>\n",
       "      <td>0.635000</td>\n",
       "      <td>0.723693</td>\n",
       "    </tr>\n",
       "  </tbody>\n",
       "</table><p>"
      ],
      "text/plain": [
       "<IPython.core.display.HTML object>"
      ]
     },
     "metadata": {},
     "output_type": "display_data"
    },
    {
     "data": {
      "application/vnd.jupyter.widget-view+json": {
       "model_id": "1774f5e7e63b4481b3becf45679bbba6",
       "version_major": 2,
       "version_minor": 0
      },
      "text/plain": [
       "config.json:   0%|          | 0.00/661 [00:00<?, ?B/s]"
      ]
     },
     "metadata": {},
     "output_type": "display_data"
    }
   ],
   "source": [
    "train_result = trainer.train()"
   ]
  },
  {
   "cell_type": "code",
   "execution_count": 23,
   "id": "2c359265",
   "metadata": {},
   "outputs": [],
   "source": [
    "model.save_pretrained(MODEL_OUTPUT_DIR) # type: ignore"
   ]
  },
  {
   "cell_type": "markdown",
   "id": "5962fddd",
   "metadata": {},
   "source": [
    "## Model Evaluation\n",
    "\n",
    "Evaluating the fine-tuned model's performance."
   ]
  },
  {
   "cell_type": "code",
   "execution_count": 24,
   "id": "0621c6ea",
   "metadata": {},
   "outputs": [
    {
     "data": {
      "text/html": [
       "\n",
       "    <div>\n",
       "      \n",
       "      <progress value='150' max='150' style='width:300px; height:20px; vertical-align: middle;'></progress>\n",
       "      [150/150 01:18]\n",
       "    </div>\n",
       "    "
      ],
      "text/plain": [
       "<IPython.core.display.HTML object>"
      ]
     },
     "metadata": {},
     "output_type": "display_data"
    }
   ],
   "source": [
    "train_history = train_result.metrics\n",
    "eval_history = trainer.evaluate()"
   ]
  },
  {
   "cell_type": "code",
   "execution_count": 25,
   "id": "6cd37a35",
   "metadata": {},
   "outputs": [
    {
     "name": "stdout",
     "output_type": "stream",
     "text": [
      "Final Evaluation Loss: 0.7237\n",
      "Final Perplexity: 2.06\n"
     ]
    }
   ],
   "source": [
    "final_eval_loss = eval_history.get(\"eval_loss\")\n",
    "\n",
    "if final_eval_loss is not None:\n",
    "    final_perplexity = torch.exp(torch.tensor(final_eval_loss)).item()\n",
    "    print(f\"Final Evaluation Loss: {final_eval_loss:.4f}\")\n",
    "    print(f\"Final Perplexity: {final_perplexity:.2f}\")\n"
   ]
  },
  {
   "cell_type": "code",
   "execution_count": 26,
   "id": "085134b7",
   "metadata": {},
   "outputs": [
    {
     "name": "stdout",
     "output_type": "stream",
     "text": [
      "Loss plot saved to ./loss_plot.png\n"
     ]
    },
    {
     "data": {
      "image/png": "[encoded data removed]",
      "text/plain": [
       "<Figure size 1200x600 with 1 Axes>"
      ]
     },
     "metadata": {},
     "output_type": "display_data"
    }
   ],
   "source": [
    "# --- 11. Extracting Metrics from log_history for Plotting ---\n",
    "train_losses = []\n",
    "eval_losses = []\n",
    "eval_steps = [] # Store steps where evaluation occurred\n",
    "\n",
    "# Iterate through the trainer's log_history\n",
    "for log in trainer.state.log_history:\n",
    "    # Training loss is logged at 'logging_steps' intervals\n",
    "    if \"loss\" in log and \"learning_rate\" in log: # Check if it's a training step log\n",
    "        train_losses.append({\"step\": log[\"step\"], \"loss\": log[\"loss\"]})\n",
    "    # Evaluation loss is logged at 'eval_steps' intervals\n",
    "    if \"eval_loss\" in log:\n",
    "        eval_losses.append({\"step\": log[\"step\"], \"loss\": log[\"eval_loss\"]})\n",
    "\n",
    "# Prepare data for plotting\n",
    "train_steps_plot = [entry[\"step\"] for entry in train_losses]\n",
    "train_values_plot = [entry[\"loss\"] for entry in train_losses]\n",
    "\n",
    "eval_steps_plot = [entry[\"step\"] for entry in eval_losses]\n",
    "eval_values_plot = [entry[\"loss\"] for entry in eval_losses]\n",
    "\n",
    "# --- 12. Plotting the Training and Evaluation Loss ---\n",
    "plt.figure(figsize=(12, 6))\n",
    "plt.plot(train_steps_plot, train_values_plot, label=\"Training Loss\", marker='.')\n",
    "plt.plot(eval_steps_plot, eval_values_plot, label=\"Evaluation Loss\", marker='o', linestyle='--')\n",
    "\n",
    "plt.xlabel(\"Training Steps\")\n",
    "plt.ylabel(\"Loss\")\n",
    "plt.title(\"Training and Evaluation Loss Over Steps\")\n",
    "plt.legend()\n",
    "plt.grid(True)\n",
    "plt.tight_layout() # Adjust layout to prevent labels from overlapping\n",
    "plot_path = os.path.join(\"./\", \"loss_plot.png\")\n",
    "plt.savefig(plot_path)\n",
    "print(f\"Loss plot saved to {plot_path}\")\n",
    "plt.show()"
   ]
  },
  {
   "cell_type": "code",
   "execution_count": 27,
   "id": "20a7f9e7-93b2-4f0b-8266-25e041289ccb",
   "metadata": {},
   "outputs": [
    {
     "data": {
      "application/vnd.jupyter.widget-view+json": {
       "model_id": "8d2e56144cde43659c5a799119c71115",
       "version_major": 2,
       "version_minor": 0
      },
      "text/plain": [
       "VBox(children=(HTML(value='<center> <img\\nsrc=https://huggingface.co/front/assets/huggingface_logo-noborder.sv…"
      ]
     },
     "metadata": {},
     "output_type": "display_data"
    }
   ],
   "source": [
    "from huggingface_hub import notebook_login\n",
    "\n",
    "notebook_login()"
   ]
  },
  {
   "cell_type": "code",
   "execution_count": 28,
   "id": "8bb0bd51",
   "metadata": {},
   "outputs": [
    {
     "data": {
      "application/vnd.jupyter.widget-view+json": {
       "model_id": "553df92214b8410094561f68dde44488",
       "version_major": 2,
       "version_minor": 0
      },
      "text/plain": [
       "  0%|          | 0/1 [00:00<?, ?it/s]"
      ]
     },
     "metadata": {},
     "output_type": "display_data"
    },
    {
     "data": {
      "application/vnd.jupyter.widget-view+json": {
       "model_id": "438b1077ce0a4086b528f9d6923d3830",
       "version_major": 2,
       "version_minor": 0
      },
      "text/plain": [
       "adapter_model.safetensors:   0%|          | 0.00/59.0M [00:00<?, ?B/s]"
      ]
     },
     "metadata": {},
     "output_type": "display_data"
    },
    {
     "data": {
      "application/vnd.jupyter.widget-view+json": {
       "model_id": "5ad2ceb45621496a925e90109785271c",
       "version_major": 2,
       "version_minor": 0
      },
      "text/plain": [
       "README.md: 0.00B [00:00, ?B/s]"
      ]
     },
     "metadata": {},
     "output_type": "display_data"
    },
    {
     "data": {
      "application/vnd.jupyter.widget-view+json": {
       "model_id": "331e55c0886a439d9fc0fe1c5149acbc",
       "version_major": 2,
       "version_minor": 0
      },
      "text/plain": [
       "  0%|          | 0/1 [00:00<?, ?it/s]"
      ]
     },
     "metadata": {},
     "output_type": "display_data"
    },
    {
     "data": {
      "application/vnd.jupyter.widget-view+json": {
       "model_id": "6a4c8d66b46e4a05918deff51fc3f8e5",
       "version_major": 2,
       "version_minor": 0
      },
      "text/plain": [
       "tokenizer.json:   0%|          | 0.00/11.4M [00:00<?, ?B/s]"
      ]
     },
     "metadata": {},
     "output_type": "display_data"
    },
    {
     "name": "stdout",
     "output_type": "stream",
     "text": [
      "LoRA adapters pushed to https://huggingface.co/Vishva007/Qwen2.5-3B-Instruct-RBI-QA-Adoptor\n"
     ]
    }
   ],
   "source": [
    "\n",
    "model.push_to_hub(MODEL_ADOPTOR_REPO_ID)  # type: ignore\n",
    "\n",
    "tokenizer.push_to_hub(MODEL_ADOPTOR_REPO_ID)\n",
    "\n",
    "print(f\"LoRA adapters pushed to https://huggingface.co/{MODEL_ADOPTOR_REPO_ID}\")"
   ]
  }
 ],
 "metadata": {
  "kernelspec": {
   "display_name": "Python 3 (ipykernel)",
   "language": "python",
   "name": "python3"
  },
  "language_info": {
   "codemirror_mode": {
    "name": "ipython",
    "version": 3
   },
   "file_extension": ".py",
   "mimetype": "text/x-python",
   "name": "python",
   "nbconvert_exporter": "python",
   "pygments_lexer": "ipython3",
   "version": "3.11.13"
  }
 },
 "nbformat": 4,
 "nbformat_minor": 5
}
