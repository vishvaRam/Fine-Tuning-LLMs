{
 "cells": [
  {
   "cell_type": "markdown",
   "id": "3daa2692",
   "metadata": {},
   "source": [
    "# RBI LLM Fine-Tuning\n",
    "\n",
    "This notebook contains the code for fine-tuning a language model on RBI (Reserve Bank of India) banking regulations and circulars. The model will be trained to answer questions related to Indian banking regulations."
   ]
  },
  {
   "cell_type": "markdown",
   "id": "e204533d",
   "metadata": {},
   "source": [
    "## Setup and Imports\n",
    "\n",
    "Importing necessary libraries and setting up environment variables."
   ]
  },
  {
   "cell_type": "code",
   "execution_count": null,
   "id": "0437999d-1416-4ac6-841b-ac966386a177",
   "metadata": {},
   "outputs": [],
   "source": [
    "# !pip install transformers hf_transfer datasets peft matplotlib bitsandbytes accelerate tensorboard"
   ]
  },
  {
   "cell_type": "code",
   "execution_count": null,
   "id": "d81bc904-e8f1-441a-89dd-aec27286f825",
   "metadata": {},
   "outputs": [],
   "source": [
    "# !MAX_JOBS=4 pip install flash-attn --no-build-isolation"
   ]
  },
  {
   "cell_type": "code",
   "execution_count": null,
   "id": "792e78e9",
   "metadata": {},
   "outputs": [],
   "source": [
    "# !pip install rouge-score"
   ]
  },
  {
   "cell_type": "code",
   "execution_count": null,
   "id": "697999b3-3965-42d7-9e93-19df4bdbab62",
   "metadata": {},
   "outputs": [],
   "source": [
    "# Expose 6006 for tensorboard"
   ]
  },
  {
   "cell_type": "code",
   "execution_count": 1,
   "id": "7c1cc67f",
   "metadata": {},
   "outputs": [],
   "source": [
    "import torch\n",
    "import torch.nn as nn\n",
    "from datasets import load_dataset\n",
    "from transformers import (\n",
    "    AutoModelForCausalLM,\n",
    "    AutoTokenizer,\n",
    "    TrainingArguments,\n",
    "    Trainer,\n",
    "    DataCollatorForLanguageModeling,\n",
    "    BitsAndBytesConfig,\n",
    "    EarlyStoppingCallback\n",
    ")\n",
    "from peft import LoraConfig, get_peft_model, prepare_model_for_kbit_training\n",
    "import matplotlib.pyplot as plt\n",
    "import os\n",
    "# from rich import print\n",
    "# from dotenv import load_dotenv\n",
    "# load_dotenv()"
   ]
  },
  {
   "cell_type": "code",
   "execution_count": 2,
   "id": "10d2c0c5",
   "metadata": {},
   "outputs": [
    {
     "name": "stdout",
     "output_type": "stream",
     "text": [
      "PyTorch Version: 2.7.1+cu128\n",
      "CUDA Available: True\n",
      "CUDA Version: 12.8\n",
      "cuDNN Version: 90701\n",
      "GPU Name: NVIDIA RTX PRO 6000 Blackwell Workstation Edition\n",
      "GPU Capability: (12, 0)\n"
     ]
    }
   ],
   "source": [
    "print(f\"PyTorch Version: {torch.__version__}\")\n",
    "print(f\"CUDA Available: {torch.cuda.is_available()}\")\n",
    "\n",
    "if torch.cuda.is_available():\n",
    "    print(f\"CUDA Version: {torch.version.cuda}\")\n",
    "    print(f\"cuDNN Version: {torch.backends.cudnn.version()}\")\n",
    "    print(f\"GPU Name: {torch.cuda.get_device_name(0)}\")\n",
    "    print(f\"GPU Capability: {torch.cuda.get_device_capability(0)}\")"
   ]
  },
  {
   "cell_type": "code",
   "execution_count": 3,
   "id": "a5eda30d",
   "metadata": {},
   "outputs": [],
   "source": [
    "PARA = 7\n",
    "MODEL_NAME = f\"Qwen/Qwen2.5-{PARA}B-Instruct\"\n",
    "MODEL_PATH = \"./Models\"\n",
    "MODEL_OUTPUT_DIR = f\"./Models/Qwen2.5-{PARA}B-Instruct-RBI-QA\"\n",
    "DATASET_NAME = \"Vishva007/RBI-Circular-QA-Dataset\"\n",
    "MODEL_ADOPTOR_REPO_ID = f\"Vishva007/Qwen2.5-{PARA}B-Instruct-RBI-QA-Adoptor\"\n",
    "SEED = 42# type: ignore"
   ]
  },
  {
   "cell_type": "code",
   "execution_count": 4,
   "id": "07b9494d",
   "metadata": {},
   "outputs": [],
   "source": [
    "os.environ['PYTORCH_CUDA_ALLOC_CONF'] = 'expandable_segments:True'\n",
    "os.environ['HF_HUB_ENABLE_HF_TRANSFER'] = '1'\n",
    "os.environ['TOKENIZERS_PARALLELISM'] = 'true'"
   ]
  },
  {
   "cell_type": "code",
   "execution_count": 5,
   "id": "66ad36cc",
   "metadata": {},
   "outputs": [
    {
     "name": "stdout",
     "output_type": "stream",
     "text": [
      "GPU is Used!\n"
     ]
    }
   ],
   "source": [
    "if not torch.cuda.is_available():\n",
    "    print(\"CUDA not available, using CPU. This will be very slow.\")\n",
    "    device_map = \"cpu\"\n",
    "else:\n",
    "    device_map = \"auto\"\n",
    "    print(\"GPU is Used!\")"
   ]
  },
  {
   "cell_type": "code",
   "execution_count": 6,
   "id": "53cea844",
   "metadata": {},
   "outputs": [
    {
     "data": {
      "application/vnd.jupyter.widget-view+json": {
       "model_id": "c797ec04860d4b3eb449ee6e83f8ef63",
       "version_major": 2,
       "version_minor": 0
      },
      "text/plain": [
       "tokenizer_config.json: 0.00B [00:00, ?B/s]"
      ]
     },
     "metadata": {},
     "output_type": "display_data"
    },
    {
     "data": {
      "application/vnd.jupyter.widget-view+json": {
       "model_id": "8d0f40dc9ace441f988a3b5026553676",
       "version_major": 2,
       "version_minor": 0
      },
      "text/plain": [
       "vocab.json: 0.00B [00:00, ?B/s]"
      ]
     },
     "metadata": {},
     "output_type": "display_data"
    },
    {
     "data": {
      "application/vnd.jupyter.widget-view+json": {
       "model_id": "d08bfe6e336a4ae3aaed2f4eca1713d6",
       "version_major": 2,
       "version_minor": 0
      },
      "text/plain": [
       "merges.txt: 0.00B [00:00, ?B/s]"
      ]
     },
     "metadata": {},
     "output_type": "display_data"
    },
    {
     "data": {
      "application/vnd.jupyter.widget-view+json": {
       "model_id": "a7d7899f54ad459e904b2a4cdbbe0168",
       "version_major": 2,
       "version_minor": 0
      },
      "text/plain": [
       "tokenizer.json: 0.00B [00:00, ?B/s]"
      ]
     },
     "metadata": {},
     "output_type": "display_data"
    },
    {
     "name": "stdout",
     "output_type": "stream",
     "text": [
      "<|endoftext|>\n",
      "<|im_end|>\n"
     ]
    }
   ],
   "source": [
    "tokenizer = AutoTokenizer.from_pretrained(MODEL_NAME, use_fast=True, trust_remote_code=True,cache_dir=MODEL_PATH)\n",
    "if not tokenizer.pad_token:\n",
    "    print(\"Pad token is missing, setting it to EOS token.\")\n",
    "    tokenizer.pad_token = tokenizer.eos_token  # Set pad token if it's missing\n",
    "tokenizer.padding_side = \"left\"  # IMPORTANT: Set padding_side to 'left' BEFORE tokenizing\n",
    "print(tokenizer.pad_token)\n",
    "print(tokenizer.eos_token)"
   ]
  },
  {
   "cell_type": "markdown",
   "id": "03f0b059",
   "metadata": {},
   "source": [
    "## Dataset Preparation\n",
    "\n",
    "Loading and preparing the dataset containing RBI circulars and question-answer pairs."
   ]
  },
  {
   "cell_type": "code",
   "execution_count": 7,
   "id": "1b602242",
   "metadata": {},
   "outputs": [
    {
     "data": {
      "application/vnd.jupyter.widget-view+json": {
       "model_id": "8620ec673d27443db50dd036535a7b47",
       "version_major": 2,
       "version_minor": 0
      },
      "text/plain": [
       "README.md: 0.00B [00:00, ?B/s]"
      ]
     },
     "metadata": {},
     "output_type": "display_data"
    },
    {
     "data": {
      "application/vnd.jupyter.widget-view+json": {
       "model_id": "66e1d56988f84c39a7e28160305ca5c7",
       "version_major": 2,
       "version_minor": 0
      },
      "text/plain": [
       "train-00000-of-00001.parquet:   0%|          | 0.00/10.9M [00:00<?, ?B/s]"
      ]
     },
     "metadata": {},
     "output_type": "display_data"
    },
    {
     "data": {
      "application/vnd.jupyter.widget-view+json": {
       "model_id": "4a9fdf35f89b422ca89e8877f82fce9b",
       "version_major": 2,
       "version_minor": 0
      },
      "text/plain": [
       "eval-00000-of-00001.parquet:   0%|          | 0.00/2.64M [00:00<?, ?B/s]"
      ]
     },
     "metadata": {},
     "output_type": "display_data"
    },
    {
     "data": {
      "application/vnd.jupyter.widget-view+json": {
       "model_id": "370a0045d49c4c60b1fcdb9fd9f1a8d6",
       "version_major": 2,
       "version_minor": 0
      },
      "text/plain": [
       "Generating train split:   0%|          | 0/29675 [00:00<?, ? examples/s]"
      ]
     },
     "metadata": {},
     "output_type": "display_data"
    },
    {
     "data": {
      "application/vnd.jupyter.widget-view+json": {
       "model_id": "a44d54f24a294525ae59bb3b69160d4a",
       "version_major": 2,
       "version_minor": 0
      },
      "text/plain": [
       "Generating eval split:   0%|          | 0/1000 [00:00<?, ? examples/s]"
      ]
     },
     "metadata": {},
     "output_type": "display_data"
    },
    {
     "name": "stdout",
     "output_type": "stream",
     "text": [
      "Dataset loaded with 29675 samples.\n",
      "Dataset({\n",
      "    features: ['document', 'filename', 'model_name', 'regulation_area', 'applicable_to', 'issued_on', 'key_topics', 'chunks_text', 'is_table', 'question', 'answer', 'evaluation_criteria', 'category', 'estimated_difficulty', 'rephrased_question', 'rephrased_answer'],\n",
      "    num_rows: 29675\n",
      "})\n"
     ]
    }
   ],
   "source": [
    "dataset = load_dataset(DATASET_NAME, split=\"train\") # type: ignore\n",
    "print(f\"Dataset loaded with {len(dataset)} samples.\") # type: ignore\n",
    "print(dataset)"
   ]
  },
  {
   "cell_type": "code",
   "execution_count": 8,
   "id": "9869ba10",
   "metadata": {},
   "outputs": [],
   "source": [
    "sys_prompt = \"\"\"\n",
    "You are a highly knowledgeable AI assistant with expertise in Indian banking and financial regulations, \n",
    "particularly those outlined in Reserve Bank of India (RBI) circulars.\n",
    "Your task is to answer questions based on the RBI circulars and related financial regulations.\n",
    "\"\"\"\n",
    "\n",
    "def format_data(sample):\n",
    "    messages = [\n",
    "        {\"role\": \"system\", \"content\": sys_prompt},\n",
    "        {\"role\": \"user\", \"content\": sample[\"question\"]},\n",
    "        {\"role\": \"assistant\", \"content\": sample[\"answer\"]}\n",
    "    ]\n",
    "    # apply_chat_template will convert the list of messages into a single string\n",
    "    # for the model input, adding control tokens like <s> and </s> if the model\n",
    "    # supports them. `tokenize=False` ensures it returns a string, not token IDs.\n",
    "    formatted_prompt = tokenizer.apply_chat_template(messages, tokenize=False, add_generation_prompt=False)\n",
    "    return {\"text\": formatted_prompt}"
   ]
  },
  {
   "cell_type": "code",
   "execution_count": 9,
   "id": "94afbaf2",
   "metadata": {},
   "outputs": [
    {
     "data": {
      "application/vnd.jupyter.widget-view+json": {
       "model_id": "45a64efe041941cc895809c78133a6bc",
       "version_major": 2,
       "version_minor": 0
      },
      "text/plain": [
       "Map:   0%|          | 0/29675 [00:00<?, ? examples/s]"
      ]
     },
     "metadata": {},
     "output_type": "display_data"
    },
    {
     "data": {
      "application/vnd.jupyter.widget-view+json": {
       "model_id": "f05ecfaed45546719a8e70ac5cd98fcd",
       "version_major": 2,
       "version_minor": 0
      },
      "text/plain": [
       "Filter:   0%|          | 0/29675 [00:00<?, ? examples/s]"
      ]
     },
     "metadata": {},
     "output_type": "display_data"
    }
   ],
   "source": [
    "dataset = dataset.map(format_data).filter(lambda x: x is not None and x[\"text\"] is not None)"
   ]
  },
  {
   "cell_type": "code",
   "execution_count": 10,
   "id": "a8901f6e",
   "metadata": {},
   "outputs": [
    {
     "name": "stdout",
     "output_type": "stream",
     "text": [
      "<|im_start|>system\n",
      "\n",
      "You are a highly knowledgeable AI assistant with expertise in Indian banking and financial regulations, \n",
      "particularly those outlined in Reserve Bank of India (RBI) circulars.\n",
      "Your task is to answer questions based on the RBI circulars and related financial regulations.\n",
      "<|im_end|>\n",
      "<|im_start|>user\n",
      "What was the Reserve Bank of India's policy regarding the delayed submission of regulatory returns in light of the COVID-19 pandemic, and which types of returns were excluded from this policy?<|im_end|>\n",
      "<|im_start|>assistant\n",
      "Due to disruptions caused by the COVID-19 pandemic, the Reserve Bank of India allowed regulated entities to submit regulatory returns to the Department of Regulation with a delay of up to 30 days from the original due date. However, this extension did not apply to statutory returns, such as those prescribed under the Banking Regulation Act, the RBI Act, or any other relevant legislation.<|im_end|>\n",
      "\n"
     ]
    }
   ],
   "source": [
    "print(dataset[5]['text'])"
   ]
  },
  {
   "cell_type": "code",
   "execution_count": 11,
   "id": "a9a2264a",
   "metadata": {},
   "outputs": [],
   "source": [
    "def tokenize_function(examples):\n",
    "    # Tokenize the texts with padding and truncation\n",
    "    return tokenizer(examples[\"text\"], padding=\"max_length\", truncation=True, max_length=512)\n"
   ]
  },
  {
   "cell_type": "code",
   "execution_count": 12,
   "id": "391cf0b0",
   "metadata": {},
   "outputs": [
    {
     "data": {
      "application/vnd.jupyter.widget-view+json": {
       "model_id": "c3887f593633446985652df27135b4e2",
       "version_major": 2,
       "version_minor": 0
      },
      "text/plain": [
       "Map:   0%|          | 0/29675 [00:00<?, ? examples/s]"
      ]
     },
     "metadata": {},
     "output_type": "display_data"
    }
   ],
   "source": [
    "tokenized_dataset = dataset.map(\n",
    "    tokenize_function,\n",
    "    batched=True,\n",
    "    remove_columns=['document', 'filename', 'model_name', 'regulation_area', 'applicable_to', 'issued_on', 'key_topics',\n",
    "'chunks_text', 'is_table', 'question', 'answer', 'evaluation_criteria', 'category', 'estimated_difficulty', \n",
    "'rephrased_question', 'rephrased_answer','text'],\n",
    ")\n"
   ]
  },
  {
   "cell_type": "code",
   "execution_count": 13,
   "id": "1130ccad",
   "metadata": {},
   "outputs": [],
   "source": [
    "# tokenized_dataset[0] # type: ignore"
   ]
  },
  {
   "cell_type": "code",
   "execution_count": 14,
   "id": "cffa66c5",
   "metadata": {},
   "outputs": [],
   "source": [
    "train_test_split = tokenized_dataset.train_test_split(test_size=0.1, seed=42)\n",
    "train_dataset = train_test_split[\"train\"]\n",
    "eval_dataset = train_test_split[\"test\"]"
   ]
  },
  {
   "cell_type": "code",
   "execution_count": 15,
   "id": "1d559cc8",
   "metadata": {},
   "outputs": [
    {
     "name": "stdout",
     "output_type": "stream",
     "text": [
      "Formatted dataset with 29675 samples.\n",
      "{'document': 'RBI_2019-2020_228DOR.BP.BC.No.68_21.04.018_2019-20_2020-04-30', 'filename': 'RBI_2019-2020_228DOR.BP.BC.No.68_21.04.018_2019-20_2020-04-30_text_part1.txt', 'model_name': 'models/gemini-2.0-flash', 'regulation_area': 'Regulation of Banks and Financial Institutions', 'applicable_to': 'All Scheduled Commercial Banks, Payments Banks, Local Area Banks, All India Financial Institutions, All Co-operative Banks', 'issued_on': '2020-04-29', 'key_topics': ['Extension of timelines for regulatory returns', 'Submission of regulatory returns', 'COVID-19 pandemic related relaxations', 'Statutory returns'], 'chunks_text': '![](_page_0_Picture_0.jpeg)\\n\\n## भारतीय �रजवर्ब�क  **RESERVE BANK OF INDIA www.rbi.org.in**\\n\\nRBI/2019-20/228 DOR.BP.BC.No.68/21.04.018/2019-20 April 29, 2020\\n\\nAll Scheduled Commercial Banks (including RRBs and Small Finance Banks), Payments Banks and Local Area Banks, All India Financial Institutions, All Co-operative Banks,\\n\\nMadam / Dear Sir,\\n\\n## **Submission of regulatory returns - Extension of timelines**\\n\\nIn order to mitigate the difficulties in timely submission of various regulatory returns, in view of disruptions on account of COVID-19 pandemic, it has been decided to extend the timelines for their submission.\\n\\n2. Accordingly, all regulatory returns required to be submitted by the above entities to the Department of Regulation can be submitted with a delay of upto 30 days from the due date. The extension will be applicable to regulatory returns required to be submitted upto June 30, 2020. Further details are furnished in the [Annex.](#page-1-0) Those entities that are in a position to submit the returns earlier may continue to do so.\\n\\n3. It may be noted that no extension in timeline is permitted for submission of statutory returns i.e. returns prescribed under the Banking Regulation Act, 1949, RBI Act, 1934 or any other Act (for instance, returns related to CRR/SLR).\\n\\n4. Further, all communication to the Department of Regulation should be through corporate e-mail to the extent possible (i.e., without involving physical movement of papers). This arrangement shall continue till further notice.\\n\\nYours faithfully,\\n\\n(Saurav Sinha) Chief General Manager-in-Charge\\n\\n> िविनयमन िवभाग,क��ीय कायार्लय, 12 व� और 13 व� मंिजल, क��ीय कायार्लय भवन, शहीद भगत �संह मागर्,फोटर्,मुंबई-400001 दूरभाष: 022-22601000 फै क्स: 022-22705691 ई-मेल: cgmicdor@rbi.org.in\\n\\n\\\\_\\\\_\\\\_\\\\_\\\\_\\\\_\\\\_\\\\_\\\\_\\\\_\\\\_\\\\_\\\\_\\\\_\\\\_\\\\_\\\\_\\\\_\\\\_\\\\_\\\\_\\\\_\\\\_\\\\_\\\\_\\\\_\\\\_\\\\_\\\\_\\\\_\\\\_\\\\_\\\\_\\\\_\\\\_\\\\_\\\\_\\\\_\\\\_\\\\_\\\\_\\\\_\\\\_\\\\_\\\\_\\\\_\\\\_\\\\_\\\\_\\\\_\\\\_\\\\_\\\\_\\\\_\\\\_\\\\_\\\\_\\\\_\\\\_\\\\_\\\\_\\\\_\\\\_\\\\_\\\\_\\\\_\\\\_\\\\_\\\\_\\\\_\\\\_\\\\_\\\\_\\\\_\\\\_\\\\_\\\\_\\\\_\\\\_\\\\_\\\\_\\\\_\\\\_\\\\_\\\\_\\\\_\\\\_\\\\_\\\\_\\\\_\\\\_\\\\_\\\\_\\\\_\\\\_\\\\_\\\\_\\\\_\\\\_\\\\_\\\\_\\\\_\\\\_\\\\_\\\\_\\\\_\\\\_\\\\_\\\\_\\\\_\\\\_\\\\_\\\\_\\\\_\\\\_\\\\_\\\\_\\\\_\\\\_\\\\_\\\\_\\\\_\\\\_\\\\_\\\\_\\\\_\\\\_\\\\_\\\\_\\\\_\\\\_\\\\_\\\\_\\\\_\\\\_ Department of Regulation, Central Office, 12th and 13th Floor, Central Office Building, Shahid Bhagat Singh Marg, Fort, Mumbai- 400 001 Tel: 022- 2260 1000 Fax: 022-2270 5691 email: cgmicdor@rbi.org.in\\n\\n![](_page_0_Picture_15.jpeg)\\n\\n<span id=\"page-1-0\"></span>\\n\\n\\n## **Annex: List of regulatory returns which can be submitted with a delay of a maximum of 30 days from the due date**\\n\\n\\n', 'is_table': False, 'question': 'What relaxations were provided by the Reserve Bank of India regarding the submission of regulatory returns in light of the COVID-19 pandemic?', 'answer': 'Due to disruptions caused by the COVID-19 pandemic, the Reserve Bank of India allowed regulated entities to submit regulatory returns with a delay of up to 30 days from the original due date. This extension was applicable to returns required to be submitted up to June 30, 2020.', 'evaluation_criteria': 'The answer should accurately state the reason for the extension, the length of the extension, and the period for which it was applicable.', 'category': 'fact-based', 'estimated_difficulty': 3, 'rephrased_question': '', 'rephrased_answer': '', 'text': '<|im_start|>system\\n\\nYou are a highly knowledgeable AI assistant with expertise in Indian banking and financial regulations, \\nparticularly those outlined in Reserve Bank of India (RBI) circulars.\\nYour task is to answer questions based on the RBI circulars and related financial regulations.\\n<|im_end|>\\n<|im_start|>user\\nWhat relaxations were provided by the Reserve Bank of India regarding the submission of regulatory returns in light of the COVID-19 pandemic?<|im_end|>\\n<|im_start|>assistant\\nDue to disruptions caused by the COVID-19 pandemic, the Reserve Bank of India allowed regulated entities to submit regulatory returns with a delay of up to 30 days from the original due date. This extension was applicable to returns required to be submitted up to June 30, 2020.<|im_end|>\\n'}\n",
      "Train dataset size: 26707\n",
      "Eval dataset size: 2968\n"
     ]
    }
   ],
   "source": [
    "print(f\"Formatted dataset with {len(dataset)} samples.\")\n",
    "print(dataset[0])\n",
    "print(f\"Train dataset size: {len(train_dataset)}\")\n",
    "print(f\"Eval dataset size: {len(eval_dataset)}\")"
   ]
  },
  {
   "cell_type": "markdown",
   "id": "2fc41545",
   "metadata": {},
   "source": [
    "## Model Configuration\n",
    "\n",
    "Configuring the model architecture and tokenizer for fine-tuning."
   ]
  },
  {
   "cell_type": "code",
   "execution_count": 16,
   "id": "b2610d07",
   "metadata": {},
   "outputs": [],
   "source": [
    "quantization_config = BitsAndBytesConfig(\n",
    "    load_in_4bit=True,\n",
    "    bnb_4bit_compute_dtype=torch.bfloat16,\n",
    "    bnb_4bit_quant_type=\"nf4\",\n",
    "    bnb_4bit_use_double_quant=True,\n",
    ")"
   ]
  },
  {
   "cell_type": "code",
   "execution_count": 17,
   "id": "5bc23fd7",
   "metadata": {},
   "outputs": [
    {
     "data": {
      "application/vnd.jupyter.widget-view+json": {
       "model_id": "ef6b7af7b49847b3bf3f87ab6c5bc451",
       "version_major": 2,
       "version_minor": 0
      },
      "text/plain": [
       "config.json:   0%|          | 0.00/663 [00:00<?, ?B/s]"
      ]
     },
     "metadata": {},
     "output_type": "display_data"
    },
    {
     "data": {
      "application/vnd.jupyter.widget-view+json": {
       "model_id": "dc5f1d6b7e3a4f489b2a12377d28e914",
       "version_major": 2,
       "version_minor": 0
      },
      "text/plain": [
       "model.safetensors.index.json: 0.00B [00:00, ?B/s]"
      ]
     },
     "metadata": {},
     "output_type": "display_data"
    },
    {
     "data": {
      "application/vnd.jupyter.widget-view+json": {
       "model_id": "266e38d8e0664ddf9847635e8e398ed4",
       "version_major": 2,
       "version_minor": 0
      },
      "text/plain": [
       "model-00001-of-00004.safetensors:   0%|          | 0.00/3.95G [00:00<?, ?B/s]"
      ]
     },
     "metadata": {},
     "output_type": "display_data"
    },
    {
     "data": {
      "application/vnd.jupyter.widget-view+json": {
       "model_id": "3ac53d7f302346ad82adcecd37a60d17",
       "version_major": 2,
       "version_minor": 0
      },
      "text/plain": [
       "model-00002-of-00004.safetensors:   0%|          | 0.00/3.86G [00:00<?, ?B/s]"
      ]
     },
     "metadata": {},
     "output_type": "display_data"
    },
    {
     "data": {
      "application/vnd.jupyter.widget-view+json": {
       "model_id": "0968bcde43e047319f0a63e081b6a168",
       "version_major": 2,
       "version_minor": 0
      },
      "text/plain": [
       "model-00003-of-00004.safetensors:   0%|          | 0.00/3.86G [00:00<?, ?B/s]"
      ]
     },
     "metadata": {},
     "output_type": "display_data"
    },
    {
     "data": {
      "application/vnd.jupyter.widget-view+json": {
       "model_id": "0881864f2fdb4f87b7a933bc9b71db9c",
       "version_major": 2,
       "version_minor": 0
      },
      "text/plain": [
       "model-00004-of-00004.safetensors:   0%|          | 0.00/3.56G [00:00<?, ?B/s]"
      ]
     },
     "metadata": {},
     "output_type": "display_data"
    },
    {
     "data": {
      "application/vnd.jupyter.widget-view+json": {
       "model_id": "b2ed9ea0d83c42fab383aa67884f42cd",
       "version_major": 2,
       "version_minor": 0
      },
      "text/plain": [
       "Loading checkpoint shards:   0%|          | 0/4 [00:00<?, ?it/s]"
      ]
     },
     "metadata": {},
     "output_type": "display_data"
    },
    {
     "data": {
      "application/vnd.jupyter.widget-view+json": {
       "model_id": "5dd38f59939e429c83e9223ce60f1190",
       "version_major": 2,
       "version_minor": 0
      },
      "text/plain": [
       "generation_config.json:   0%|          | 0.00/243 [00:00<?, ?B/s]"
      ]
     },
     "metadata": {},
     "output_type": "display_data"
    },
    {
     "name": "stdout",
     "output_type": "stream",
     "text": [
      "Qwen2ForCausalLM(\n",
      "  (model): Qwen2Model(\n",
      "    (embed_tokens): Embedding(152064, 3584)\n",
      "    (layers): ModuleList(\n",
      "      (0-27): 28 x Qwen2DecoderLayer(\n",
      "        (self_attn): Qwen2Attention(\n",
      "          (q_proj): Linear4bit(in_features=3584, out_features=3584, bias=True)\n",
      "          (k_proj): Linear4bit(in_features=3584, out_features=512, bias=True)\n",
      "          (v_proj): Linear4bit(in_features=3584, out_features=512, bias=True)\n",
      "          (o_proj): Linear4bit(in_features=3584, out_features=3584, bias=False)\n",
      "        )\n",
      "        (mlp): Qwen2MLP(\n",
      "          (gate_proj): Linear4bit(in_features=3584, out_features=18944, bias=False)\n",
      "          (up_proj): Linear4bit(in_features=3584, out_features=18944, bias=False)\n",
      "          (down_proj): Linear4bit(in_features=18944, out_features=3584, bias=False)\n",
      "          (act_fn): SiLU()\n",
      "        )\n",
      "        (input_layernorm): Qwen2RMSNorm((3584,), eps=1e-06)\n",
      "        (post_attention_layernorm): Qwen2RMSNorm((3584,), eps=1e-06)\n",
      "      )\n",
      "    )\n",
      "    (norm): Qwen2RMSNorm((3584,), eps=1e-06)\n",
      "    (rotary_emb): Qwen2RotaryEmbedding()\n",
      "  )\n",
      "  (lm_head): Linear(in_features=3584, out_features=152064, bias=False)\n",
      ")\n"
     ]
    }
   ],
   "source": [
    "model = AutoModelForCausalLM.from_pretrained(\n",
    "    MODEL_NAME,\n",
    "    torch_dtype=\"auto\",\n",
    "    device_map=\"auto\",\n",
    "    trust_remote_code=True,\n",
    "    # attn_implementation=\"flash_attention_2\",\n",
    "    cache_dir=MODEL_PATH,\n",
    "    quantization_config=quantization_config\n",
    ")\n",
    "print(model)"
   ]
  },
  {
   "cell_type": "markdown",
   "id": "ab7dbb0c",
   "metadata": {},
   "source": [
    "## Training Configuration\n",
    "\n",
    "Setting up the training parameters and callbacks for model fine-tuning."
   ]
  },
  {
   "cell_type": "code",
   "execution_count": 18,
   "id": "95ce748b",
   "metadata": {},
   "outputs": [],
   "source": [
    "# Assuming these are defined elsewhere in your context, similar to the image\n",
    "CANDIDATE_ATTRS = [\"model\", \"transformer\", \"decoder\"]\n",
    "\n",
    "def unwrap_to_base(model):\n",
    "    for attr in CANDIDATE_ATTRS:\n",
    "        if hasattr(model, attr):\n",
    "            return getattr(model, attr)\n",
    "    raise AttributeError(\n",
    "        f\"Could not find base model (e.g., model, transformer, decoder) \"\n",
    "        f\"in {type(model).__name__}. Check CANDIDATE_ATTRS or inspect manually.\"\n",
    "    )\n",
    "\n",
    "def print_model_dimensions(model):\n",
    "    \"\"\"\n",
    "    Prints the dimensions of individual Attention (q, k, v, o) and MLP (gate, up, down)\n",
    "    layers based on the Qwen2 model structure.\n",
    "    \"\"\"\n",
    "    base = unwrap_to_base(model)\n",
    "    if not hasattr(base, 'layers') or not base.layers:\n",
    "        raise ValueError(\"Model base does not have 'layers' attribute or layers are empty.\")\n",
    "\n",
    "    L0 = base.layers[0] # First decoder layer\n",
    "\n",
    "    # --- ATTENTION ---\n",
    "    print(\"ATTENTION\")\n",
    "    sa = L0.self_attn\n",
    "\n",
    "    # Print individual q_proj, k_proj, v_proj, o_proj\n",
    "    for name in [\"q_proj\", \"k_proj\", \"v_proj\", \"o_proj\"]:\n",
    "        proj_module = getattr(sa, name, None)\n",
    "        if isinstance(proj_module, nn.Linear):\n",
    "            weight_shape = torch.Size([proj_module.out_features, proj_module.in_features]) # type: ignore\n",
    "            print(f\"{name:<10}: torch.Size({list(weight_shape)})\")\n",
    "        else:\n",
    "            print(f\"{name:<10}: Not a Linear module or missing.\")\n",
    "\n",
    "\n",
    "    # --- MLP ---\n",
    "    print(\"\\nMLP\")\n",
    "    mlp = L0.mlp\n",
    "\n",
    "    # Print individual gate_proj, up_proj, down_proj\n",
    "    for name in [\"gate_proj\", \"up_proj\", \"down_proj\"]:\n",
    "        proj_module = getattr(mlp, name, None)\n",
    "        if isinstance(proj_module, nn.Linear):\n",
    "            weight_shape = torch.Size([proj_module.out_features, proj_module.in_features]) # type: ignore\n",
    "            print(f\"{name:<10}: torch.Size({list(weight_shape)})\")\n",
    "        else:\n",
    "            print(f\"{name:<10}: Not a Linear module or missing.\")"
   ]
  },
  {
   "cell_type": "code",
   "execution_count": 19,
   "id": "162093f1",
   "metadata": {},
   "outputs": [
    {
     "name": "stdout",
     "output_type": "stream",
     "text": [
      "ATTENTION\n",
      "q_proj    : torch.Size([3584, 3584])\n",
      "k_proj    : torch.Size([512, 3584])\n",
      "v_proj    : torch.Size([512, 3584])\n",
      "o_proj    : torch.Size([3584, 3584])\n",
      "\n",
      "MLP\n",
      "gate_proj : torch.Size([18944, 3584])\n",
      "up_proj   : torch.Size([18944, 3584])\n",
      "down_proj : torch.Size([3584, 18944])\n"
     ]
    }
   ],
   "source": [
    "print_model_dimensions(model)"
   ]
  },
  {
   "cell_type": "code",
   "execution_count": 20,
   "id": "74b48bc8",
   "metadata": {},
   "outputs": [],
   "source": [
    "model = prepare_model_for_kbit_training(model)"
   ]
  },
  {
   "cell_type": "code",
   "execution_count": 21,
   "id": "6a804f41",
   "metadata": {},
   "outputs": [],
   "source": [
    "lora_config = LoraConfig(\n",
    "    r=64,\n",
    "    lora_alpha=64,\n",
    "    use_rslora=True,\n",
    "    lora_dropout=0.05,\n",
    "    bias=\"none\",\n",
    "    task_type=\"CAUSAL_LM\",\n",
    "    target_modules=[\n",
    "        \"q_proj\",\n",
    "        \"k_proj\",\n",
    "        \"v_proj\",\n",
    "        \"o_proj\",\n",
    "        \"gate_proj\",\n",
    "        \"up_proj\",\n",
    "        \"down_proj\",\n",
    "    ],\n",
    ")"
   ]
  },
  {
   "cell_type": "code",
   "execution_count": 22,
   "id": "4cda5239",
   "metadata": {},
   "outputs": [
    {
     "name": "stdout",
     "output_type": "stream",
     "text": [
      "trainable params: 161,480,704 || all params: 7,777,097,216 || trainable%: 2.0764\n"
     ]
    }
   ],
   "source": [
    "model = get_peft_model(model, lora_config)\n",
    "model.print_trainable_parameters()"
   ]
  },
  {
   "cell_type": "code",
   "execution_count": 23,
   "id": "19edd53f",
   "metadata": {},
   "outputs": [],
   "source": [
    "def create_data_collator_for_chat_training(tokenizer):\n",
    "    \"\"\"\n",
    "    Creates a data collator that masks labels to -100 except for the assistant's response.\n",
    "    This version properly handles chat formatting and finds assistant responses correctly.\n",
    "\n",
    "    Args:\n",
    "        tokenizer: The tokenizer used for encoding the data, expecting chat template support.\n",
    "\n",
    "    Returns:\n",
    "        A DataCollatorForLanguageModeling instance with custom label masking.\n",
    "    \"\"\"\n",
    "    class CustomDataCollator(DataCollatorForLanguageModeling):\n",
    "        def torch_call(self, features): # type: ignore\n",
    "            # Pad inputs to the longest sequence in the batch\n",
    "            batch = self.tokenizer.pad(\n",
    "                features,\n",
    "                return_tensors=\"pt\",\n",
    "                padding=True,\n",
    "            )\n",
    "\n",
    "            labels = batch[\"input_ids\"].clone()\n",
    "\n",
    "            # Get assistant prompt tokens consistently\n",
    "            # Use return_attention_mask=False if you only need the input_ids\n",
    "            # Ensure add_special_tokens=False to get only the tokens for the string part\n",
    "            assistant_prompt_ids = self.tokenizer.encode(\n",
    "                \"<|im_start|>assistant\\n\", \n",
    "                add_special_tokens=False, \n",
    "                return_tensors=\"pt\"\n",
    "            )[0] # Get the first (and only) sequence\n",
    "\n",
    "            # Get the im_end token ID\n",
    "            im_end_token_id = self.tokenizer.convert_tokens_to_ids(\"<|im_end|>\")\n",
    "            \n",
    "            # --- Debug prints within the collator ---\n",
    "            # print(f\"Collator: Assistant prompt IDs: {assistant_prompt_ids.tolist()}\")\n",
    "            # print(f\"Collator: IM end token ID: {im_end_token_id}\")\n",
    "            # print(f\"Collator: Tokenizer pad_token_id: {self.tokenizer.pad_token_id}\")\n",
    "            # print(f\"Collator: Tokenizer eos_token_id: {self.tokenizer.eos_token_id}\")\n",
    "            # print(f\"Collator: Is pad_token_id == im_end_token_id? {self.tokenizer.pad_token_id == im_end_token_id}\")\n",
    "\n",
    "            # Process each sequence in the batch\n",
    "            for i, input_ids_tensor in enumerate(batch[\"input_ids\"]):\n",
    "                # Initialize all labels to -100 (ignore by default)\n",
    "                labels[i, :] = -100\n",
    "\n",
    "                # Find actual content start (first non-padding token)\n",
    "                attention_mask = batch[\"attention_mask\"][i]\n",
    "                if attention_mask.sum() == 0:\n",
    "                    continue\n",
    "                    \n",
    "                actual_start = (attention_mask == 1).nonzero(as_tuple=True)[0][0].item()\n",
    "                actual_end = actual_start + attention_mask.sum().item()\n",
    "\n",
    "                # Using torch operations for efficiency\n",
    "                input_ids_torch = input_ids_tensor \n",
    "                \n",
    "                # Find all assistant response sections\n",
    "                assistant_starts = []\n",
    "                assistant_ends = []\n",
    "                \n",
    "                len_prompt = assistant_prompt_ids.numel() # Use numel for torch tensor length\n",
    "                \n",
    "                for j in range(actual_start, actual_end - len_prompt + 1):\n",
    "                    if torch.equal(input_ids_torch[j : j + len_prompt], assistant_prompt_ids.to(input_ids_torch.device)):\n",
    "                        assistant_start = j + len_prompt\n",
    "                        assistant_starts.append(assistant_start)\n",
    "                        \n",
    "                        # Find the corresponding end\n",
    "                        assistant_end = None\n",
    "                        im_end_indices = (input_ids_torch[assistant_start:actual_end] == im_end_token_id).nonzero(as_tuple=True)[0]\n",
    "                        \n",
    "                        if im_end_indices.numel() > 0:\n",
    "                            assistant_end = assistant_start + im_end_indices[0].item() + 1 # +1 to include im_end token\n",
    "                        else:\n",
    "                            assistant_end = actual_end # If no end token found, go to end of actual content\n",
    "                        \n",
    "                        assistant_ends.append(assistant_end)\n",
    "\n",
    "                # Unmask assistant responses\n",
    "                for start, end in zip(assistant_starts, assistant_ends):\n",
    "                    if start < end:\n",
    "                        labels[i, start:end] = input_ids_tensor[start:end]\n",
    "                        # print(f\"Unmasked assistant response from {start} to {end}\")\n",
    "\n",
    "                # Debug: Print some info about what we found\n",
    "                # print(f\"Sequence {i}: Found {len(assistant_starts)} assistant responses\")\n",
    "                # if len(assistant_starts) > 0:\n",
    "                #     print(f\"  First assistant response starts at: {assistant_starts[0]}\")\n",
    "                #     decode_end = min(assistant_starts[0]+20, actual_end)\n",
    "                #     print(f\"  Content snippet: {self.tokenizer.decode(input_ids_tensor[assistant_starts[0]:decode_end], skip_special_tokens=False)}\")\n",
    "\n",
    "            batch[\"labels\"] = labels\n",
    "            return batch\n",
    "\n",
    "    return CustomDataCollator(tokenizer=tokenizer, mlm=False)"
   ]
  },
  {
   "cell_type": "code",
   "execution_count": 24,
   "id": "4ab35224",
   "metadata": {},
   "outputs": [],
   "source": [
    "data_collator = create_data_collator_for_chat_training(tokenizer)\n"
   ]
  },
  {
   "cell_type": "code",
   "execution_count": 25,
   "id": "e86f1151",
   "metadata": {},
   "outputs": [],
   "source": [
    "# sample_to_check = eval_dataset[0]\n",
    "# print(f\"Original tokenized sample (eval_dataset[0]): {sample_to_check}\")\n",
    "\n",
    "# # Manually call the data collator with this single sample (wrapped in a list for batching)\n",
    "# collated_sample = data_collator([sample_to_check])\n"
   ]
  },
  {
   "cell_type": "code",
   "execution_count": 26,
   "id": "76327e07",
   "metadata": {},
   "outputs": [],
   "source": [
    "\n",
    "# print(\"\\n--- Debugging Collated Sample ---\")\n",
    "# print(\"Input IDs:\", collated_sample[\"input_ids\"])\n",
    "# print(\"Labels:\", collated_sample[\"labels\"])\n",
    "\n",
    "# # Decode the labels to visually check masking\n",
    "# decoded_labels = collated_sample[\"labels\"][0].clone()\n",
    "# decoded_labels[decoded_labels == -100] = tokenizer.pad_token_id # Replace -100 for decoding\n",
    "# print(\"Decoded Labels (with masked parts as pad token):\", tokenizer.decode(decoded_labels, skip_special_tokens=False))\n",
    "\n",
    "# # Also, let's decode the original input_ids to compare\n",
    "# print(\"Decoded Input IDs:\", tokenizer.decode(collated_sample[\"input_ids\"][0], skip_special_tokens=False))\n"
   ]
  },
  {
   "cell_type": "code",
   "execution_count": 27,
   "id": "e3efe90e",
   "metadata": {},
   "outputs": [],
   "source": [
    "training_args = TrainingArguments(\n",
    "    output_dir=MODEL_OUTPUT_DIR,\n",
    "    num_train_epochs=3,  # ⬅️ Increase epochs for better knowledge retention\n",
    "    per_device_train_batch_size=32,  # ⬅️ Reduce if you face OOM errors\n",
    "    gradient_accumulation_steps=1,  # ⬅️ Keeps effective batch size = 32\n",
    "    per_device_eval_batch_size=32,\n",
    "    eval_accumulation_steps=1,\n",
    "    \n",
    "    learning_rate=2e-5,  # ⬅️ Increase LR for LoRA (2e-5 to 5e-4 works well)\n",
    "    lr_scheduler_type=\"cosine\",\n",
    "    warmup_ratio=0.05,   # ⬅️ 5% warmup often stabilizes LoRA better\n",
    "    optim=\"paged_adamw_8bit\",\n",
    "\n",
    "    bf16=True,\n",
    "    gradient_checkpointing=True,\n",
    "    gradient_checkpointing_kwargs={\"use_reentrant\": False},\n",
    "\n",
    "    eval_strategy=\"steps\",\n",
    "    eval_steps=200,       # ⬅️ Evaluate less frequently to reduce overhead\n",
    "    save_strategy=\"steps\",\n",
    "    save_steps=200,\n",
    "    load_best_model_at_end=True,\n",
    "    metric_for_best_model=\"eval_loss\",\n",
    "    greater_is_better=False,\n",
    "    logging_dir=\"./logs\",\n",
    "    logging_steps=50,\n",
    "    report_to=\"tensorboard\",\n",
    "    \n",
    "    remove_unused_columns=False,\n",
    "    dataloader_pin_memory=True,   # ⬅️ True helps on GPU\n",
    "    dataloader_num_workers=2,     # ⬅️ Speeds up data loading\n",
    "    max_grad_norm=0.3,            # ⬅️ Lower norm works better for LoRA\n",
    "    group_by_length=True,         # ⬅️ Faster training for chat-style QA\n",
    ")\n"
   ]
  },
  {
   "cell_type": "markdown",
   "id": "2f858221",
   "metadata": {},
   "source": [
    "### Tensorboard \n",
    "\n",
    "pip install tensorboard\n",
    "\n",
    "cd ../workspace\n",
    "\n",
    "tensorboard --logdir ./logs --host 0.0.0.0 --port 6006 --reload_interval 5\n",
    "\n",
    "https://[pod_id]-6006.proxy.runpod.net/"
   ]
  },
  {
   "cell_type": "code",
   "execution_count": 28,
   "id": "f8979dd6",
   "metadata": {},
   "outputs": [
    {
     "name": "stderr",
     "output_type": "stream",
     "text": [
      "No label_names provided for model class `PeftModelForCausalLM`. Since `PeftModel` hides base models input arguments, if label_names is not given, label_names can't be set automatically within `Trainer`. Note that empty label_names list will be used instead.\n"
     ]
    }
   ],
   "source": [
    "\n",
    "# 7. Initialize the Trainer\n",
    "trainer = Trainer(\n",
    "    model=model,\n",
    "    train_dataset=train_dataset,\n",
    "    eval_dataset=eval_dataset,\n",
    "    args=training_args,\n",
    "    data_collator=data_collator,\n",
    "    callbacks=[\n",
    "            EarlyStoppingCallback(\n",
    "                early_stopping_patience=3,        # ⬅️ Increase to 3 for LoRA (prevents premature stopping)\n",
    "                early_stopping_threshold=0.001    # ⬅️ Lower threshold to stop only on real stagnation\n",
    "            )\n",
    "        ],\n",
    ")\n"
   ]
  },
  {
   "cell_type": "code",
   "execution_count": 29,
   "id": "26d104df",
   "metadata": {},
   "outputs": [
    {
     "name": "stderr",
     "output_type": "stream",
     "text": [
      "You're using a Qwen2TokenizerFast tokenizer. Please note that with a fast tokenizer, using the `__call__` method is faster than using a method to encode the text followed by a call to the `pad` method to get a padded encoding.\n",
      "You're using a Qwen2TokenizerFast tokenizer. Please note that with a fast tokenizer, using the `__call__` method is faster than using a method to encode the text followed by a call to the `pad` method to get a padded encoding.\n",
      "`use_cache=True` is incompatible with gradient checkpointing. Setting `use_cache=False`.\n"
     ]
    },
    {
     "data": {
      "text/html": [
       "\n",
       "    <div>\n",
       "      \n",
       "      <progress value='2200' max='2505' style='width:300px; height:20px; vertical-align: middle;'></progress>\n",
       "      [2200/2505 3:50:54 < 32:02, 0.16 it/s, Epoch 2/3]\n",
       "    </div>\n",
       "    <table border=\"1\" class=\"dataframe\">\n",
       "  <thead>\n",
       " <tr style=\"text-align: left;\">\n",
       "      <th>Step</th>\n",
       "      <th>Training Loss</th>\n",
       "      <th>Validation Loss</th>\n",
       "    </tr>\n",
       "  </thead>\n",
       "  <tbody>\n",
       "    <tr>\n",
       "      <td>200</td>\n",
       "      <td>1.353000</td>\n",
       "      <td>1.331988</td>\n",
       "    </tr>\n",
       "    <tr>\n",
       "      <td>400</td>\n",
       "      <td>1.157000</td>\n",
       "      <td>1.147023</td>\n",
       "    </tr>\n",
       "    <tr>\n",
       "      <td>600</td>\n",
       "      <td>1.034700</td>\n",
       "      <td>1.025532</td>\n",
       "    </tr>\n",
       "    <tr>\n",
       "      <td>800</td>\n",
       "      <td>0.943100</td>\n",
       "      <td>0.935775</td>\n",
       "    </tr>\n",
       "    <tr>\n",
       "      <td>1000</td>\n",
       "      <td>0.697600</td>\n",
       "      <td>0.885298</td>\n",
       "    </tr>\n",
       "    <tr>\n",
       "      <td>1200</td>\n",
       "      <td>0.672600</td>\n",
       "      <td>0.830573</td>\n",
       "    </tr>\n",
       "    <tr>\n",
       "      <td>1400</td>\n",
       "      <td>0.638400</td>\n",
       "      <td>0.789970</td>\n",
       "    </tr>\n",
       "    <tr>\n",
       "      <td>1600</td>\n",
       "      <td>0.607300</td>\n",
       "      <td>0.759045</td>\n",
       "    </tr>\n",
       "    <tr>\n",
       "      <td>1800</td>\n",
       "      <td>0.407400</td>\n",
       "      <td>0.777258</td>\n",
       "    </tr>\n",
       "    <tr>\n",
       "      <td>2000</td>\n",
       "      <td>0.402700</td>\n",
       "      <td>0.767147</td>\n",
       "    </tr>\n",
       "    <tr>\n",
       "      <td>2200</td>\n",
       "      <td>0.408500</td>\n",
       "      <td>0.760379</td>\n",
       "    </tr>\n",
       "  </tbody>\n",
       "</table><p>"
      ],
      "text/plain": [
       "<IPython.core.display.HTML object>"
      ]
     },
     "metadata": {},
     "output_type": "display_data"
    },
    {
     "name": "stderr",
     "output_type": "stream",
     "text": [
      "You're using a Qwen2TokenizerFast tokenizer. Please note that with a fast tokenizer, using the `__call__` method is faster than using a method to encode the text followed by a call to the `pad` method to get a padded encoding.\n",
      "You're using a Qwen2TokenizerFast tokenizer. Please note that with a fast tokenizer, using the `__call__` method is faster than using a method to encode the text followed by a call to the `pad` method to get a padded encoding.\n"
     ]
    },
    {
     "data": {
      "application/vnd.jupyter.widget-view+json": {
       "model_id": "86cb57c3b4e44826bf90c9f98bd8ae52",
       "version_major": 2,
       "version_minor": 0
      },
      "text/plain": [
       "config.json:   0%|          | 0.00/663 [00:00<?, ?B/s]"
      ]
     },
     "metadata": {},
     "output_type": "display_data"
    },
    {
     "name": "stderr",
     "output_type": "stream",
     "text": [
      "You're using a Qwen2TokenizerFast tokenizer. Please note that with a fast tokenizer, using the `__call__` method is faster than using a method to encode the text followed by a call to the `pad` method to get a padded encoding.\n",
      "You're using a Qwen2TokenizerFast tokenizer. Please note that with a fast tokenizer, using the `__call__` method is faster than using a method to encode the text followed by a call to the `pad` method to get a padded encoding.\n",
      "You're using a Qwen2TokenizerFast tokenizer. Please note that with a fast tokenizer, using the `__call__` method is faster than using a method to encode the text followed by a call to the `pad` method to get a padded encoding.\n",
      "You're using a Qwen2TokenizerFast tokenizer. Please note that with a fast tokenizer, using the `__call__` method is faster than using a method to encode the text followed by a call to the `pad` method to get a padded encoding.\n",
      "You're using a Qwen2TokenizerFast tokenizer. Please note that with a fast tokenizer, using the `__call__` method is faster than using a method to encode the text followed by a call to the `pad` method to get a padded encoding.\n",
      "You're using a Qwen2TokenizerFast tokenizer. Please note that with a fast tokenizer, using the `__call__` method is faster than using a method to encode the text followed by a call to the `pad` method to get a padded encoding.\n",
      "You're using a Qwen2TokenizerFast tokenizer. Please note that with a fast tokenizer, using the `__call__` method is faster than using a method to encode the text followed by a call to the `pad` method to get a padded encoding.\n",
      "You're using a Qwen2TokenizerFast tokenizer. Please note that with a fast tokenizer, using the `__call__` method is faster than using a method to encode the text followed by a call to the `pad` method to get a padded encoding.\n",
      "You're using a Qwen2TokenizerFast tokenizer. Please note that with a fast tokenizer, using the `__call__` method is faster than using a method to encode the text followed by a call to the `pad` method to get a padded encoding.\n",
      "You're using a Qwen2TokenizerFast tokenizer. Please note that with a fast tokenizer, using the `__call__` method is faster than using a method to encode the text followed by a call to the `pad` method to get a padded encoding.\n",
      "You're using a Qwen2TokenizerFast tokenizer. Please note that with a fast tokenizer, using the `__call__` method is faster than using a method to encode the text followed by a call to the `pad` method to get a padded encoding.\n",
      "You're using a Qwen2TokenizerFast tokenizer. Please note that with a fast tokenizer, using the `__call__` method is faster than using a method to encode the text followed by a call to the `pad` method to get a padded encoding.\n",
      "You're using a Qwen2TokenizerFast tokenizer. Please note that with a fast tokenizer, using the `__call__` method is faster than using a method to encode the text followed by a call to the `pad` method to get a padded encoding.\n",
      "You're using a Qwen2TokenizerFast tokenizer. Please note that with a fast tokenizer, using the `__call__` method is faster than using a method to encode the text followed by a call to the `pad` method to get a padded encoding.\n",
      "You're using a Qwen2TokenizerFast tokenizer. Please note that with a fast tokenizer, using the `__call__` method is faster than using a method to encode the text followed by a call to the `pad` method to get a padded encoding.\n",
      "You're using a Qwen2TokenizerFast tokenizer. Please note that with a fast tokenizer, using the `__call__` method is faster than using a method to encode the text followed by a call to the `pad` method to get a padded encoding.\n",
      "You're using a Qwen2TokenizerFast tokenizer. Please note that with a fast tokenizer, using the `__call__` method is faster than using a method to encode the text followed by a call to the `pad` method to get a padded encoding.\n",
      "You're using a Qwen2TokenizerFast tokenizer. Please note that with a fast tokenizer, using the `__call__` method is faster than using a method to encode the text followed by a call to the `pad` method to get a padded encoding.\n",
      "You're using a Qwen2TokenizerFast tokenizer. Please note that with a fast tokenizer, using the `__call__` method is faster than using a method to encode the text followed by a call to the `pad` method to get a padded encoding.\n",
      "You're using a Qwen2TokenizerFast tokenizer. Please note that with a fast tokenizer, using the `__call__` method is faster than using a method to encode the text followed by a call to the `pad` method to get a padded encoding.\n",
      "You're using a Qwen2TokenizerFast tokenizer. Please note that with a fast tokenizer, using the `__call__` method is faster than using a method to encode the text followed by a call to the `pad` method to get a padded encoding.\n",
      "You're using a Qwen2TokenizerFast tokenizer. Please note that with a fast tokenizer, using the `__call__` method is faster than using a method to encode the text followed by a call to the `pad` method to get a padded encoding.\n",
      "You're using a Qwen2TokenizerFast tokenizer. Please note that with a fast tokenizer, using the `__call__` method is faster than using a method to encode the text followed by a call to the `pad` method to get a padded encoding.\n",
      "You're using a Qwen2TokenizerFast tokenizer. Please note that with a fast tokenizer, using the `__call__` method is faster than using a method to encode the text followed by a call to the `pad` method to get a padded encoding.\n"
     ]
    }
   ],
   "source": [
    "train_result = trainer.train()"
   ]
  },
  {
   "cell_type": "code",
   "execution_count": 30,
   "id": "2c359265",
   "metadata": {},
   "outputs": [],
   "source": [
    "model.save_pretrained(MODEL_OUTPUT_DIR) # type: ignore"
   ]
  },
  {
   "cell_type": "markdown",
   "id": "5962fddd",
   "metadata": {},
   "source": [
    "## Model Evaluation\n",
    "\n",
    "Evaluating the fine-tuned model's performance."
   ]
  },
  {
   "cell_type": "code",
   "execution_count": 31,
   "id": "0621c6ea",
   "metadata": {},
   "outputs": [
    {
     "name": "stderr",
     "output_type": "stream",
     "text": [
      "You're using a Qwen2TokenizerFast tokenizer. Please note that with a fast tokenizer, using the `__call__` method is faster than using a method to encode the text followed by a call to the `pad` method to get a padded encoding.\n",
      "You're using a Qwen2TokenizerFast tokenizer. Please note that with a fast tokenizer, using the `__call__` method is faster than using a method to encode the text followed by a call to the `pad` method to get a padded encoding.\n"
     ]
    },
    {
     "data": {
      "text/html": [
       "\n",
       "    <div>\n",
       "      \n",
       "      <progress value='93' max='93' style='width:300px; height:20px; vertical-align: middle;'></progress>\n",
       "      [93/93 02:41]\n",
       "    </div>\n",
       "    "
      ],
      "text/plain": [
       "<IPython.core.display.HTML object>"
      ]
     },
     "metadata": {},
     "output_type": "display_data"
    }
   ],
   "source": [
    "train_history = train_result.metrics\n",
    "eval_history = trainer.evaluate()"
   ]
  },
  {
   "cell_type": "code",
   "execution_count": 32,
   "id": "6cd37a35",
   "metadata": {},
   "outputs": [
    {
     "name": "stdout",
     "output_type": "stream",
     "text": [
      "Final Evaluation Loss: 0.7614\n",
      "Final Perplexity: 2.14\n"
     ]
    }
   ],
   "source": [
    "final_eval_loss = eval_history.get(\"eval_loss\")\n",
    "\n",
    "if final_eval_loss is not None:\n",
    "    final_perplexity = torch.exp(torch.tensor(final_eval_loss)).item()\n",
    "    print(f\"Final Evaluation Loss: {final_eval_loss:.4f}\")\n",
    "    print(f\"Final Perplexity: {final_perplexity:.2f}\")\n"
   ]
  },
  {
   "cell_type": "code",
   "execution_count": 33,
   "id": "085134b7",
   "metadata": {},
   "outputs": [
    {
     "name": "stdout",
     "output_type": "stream",
     "text": [
      "Loss plot saved to ./loss_plot.png\n"
     ]
    },
    {
     "data": {
      "image/png": "[encoded data removed]",
      "text/plain": [
       "<Figure size 1200x600 with 1 Axes>"
      ]
     },
     "metadata": {},
     "output_type": "display_data"
    }
   ],
   "source": [
    "# --- 11. Extracting Metrics from log_history for Plotting ---\n",
    "train_losses = []\n",
    "eval_losses = []\n",
    "eval_steps = [] # Store steps where evaluation occurred\n",
    "\n",
    "# Iterate through the trainer's log_history\n",
    "for log in trainer.state.log_history:\n",
    "    # Training loss is logged at 'logging_steps' intervals\n",
    "    if \"loss\" in log and \"learning_rate\" in log: # Check if it's a training step log\n",
    "        train_losses.append({\"step\": log[\"step\"], \"loss\": log[\"loss\"]})\n",
    "    # Evaluation loss is logged at 'eval_steps' intervals\n",
    "    if \"eval_loss\" in log:\n",
    "        eval_losses.append({\"step\": log[\"step\"], \"loss\": log[\"eval_loss\"]})\n",
    "\n",
    "# Prepare data for plotting\n",
    "train_steps_plot = [entry[\"step\"] for entry in train_losses]\n",
    "train_values_plot = [entry[\"loss\"] for entry in train_losses]\n",
    "\n",
    "eval_steps_plot = [entry[\"step\"] for entry in eval_losses]\n",
    "eval_values_plot = [entry[\"loss\"] for entry in eval_losses]\n",
    "\n",
    "# --- 12. Plotting the Training and Evaluation Loss ---\n",
    "plt.figure(figsize=(12, 6))\n",
    "plt.plot(train_steps_plot, train_values_plot, label=\"Training Loss\", marker='.')\n",
    "plt.plot(eval_steps_plot, eval_values_plot, label=\"Evaluation Loss\", marker='o', linestyle='--')\n",
    "\n",
    "plt.xlabel(\"Training Steps\")\n",
    "plt.ylabel(\"Loss\")\n",
    "plt.title(\"Training and Evaluation Loss Over Steps\")\n",
    "plt.legend()\n",
    "plt.grid(True)\n",
    "plt.tight_layout() # Adjust layout to prevent labels from overlapping\n",
    "plot_path = os.path.join(\"./\", \"loss_plot.png\")\n",
    "plt.savefig(plot_path)\n",
    "print(f\"Loss plot saved to {plot_path}\")\n",
    "plt.show()"
   ]
  },
  {
   "cell_type": "code",
   "execution_count": null,
   "id": "20a7f9e7-93b2-4f0b-8266-25e041289ccb",
   "metadata": {},
   "outputs": [],
   "source": [
    "from huggingface_hub import login\n",
    "\n",
    "login(token=\"\")"
   ]
  },
  {
   "cell_type": "code",
   "execution_count": 35,
   "id": "8bb0bd51",
   "metadata": {},
   "outputs": [
    {
     "data": {
      "application/vnd.jupyter.widget-view+json": {
       "model_id": "5ad3fbb19e1c4f0092c871f38a800d70",
       "version_major": 2,
       "version_minor": 0
      },
      "text/plain": [
       "README.md: 0.00B [00:00, ?B/s]"
      ]
     },
     "metadata": {},
     "output_type": "display_data"
    },
    {
     "data": {
      "application/vnd.jupyter.widget-view+json": {
       "model_id": "080fc858609e4f18bad443c7c9db35d4",
       "version_major": 2,
       "version_minor": 0
      },
      "text/plain": [
       "  0%|          | 0/1 [00:00<?, ?it/s]"
      ]
     },
     "metadata": {},
     "output_type": "display_data"
    },
    {
     "data": {
      "application/vnd.jupyter.widget-view+json": {
       "model_id": "a9f29ae8afc34ed88071df80e20c4a81",
       "version_major": 2,
       "version_minor": 0
      },
      "text/plain": [
       "adapter_model.safetensors:   0%|          | 0.00/646M [00:00<?, ?B/s]"
      ]
     },
     "metadata": {},
     "output_type": "display_data"
    },
    {
     "data": {
      "application/vnd.jupyter.widget-view+json": {
       "model_id": "733d6d5092e64f63925eb5fcd1d37346",
       "version_major": 2,
       "version_minor": 0
      },
      "text/plain": [
       "  0%|          | 0/1 [00:00<?, ?it/s]"
      ]
     },
     "metadata": {},
     "output_type": "display_data"
    },
    {
     "data": {
      "application/vnd.jupyter.widget-view+json": {
       "model_id": "0c410a24c0f8414c86eb18869211e12f",
       "version_major": 2,
       "version_minor": 0
      },
      "text/plain": [
       "tokenizer.json:   0%|          | 0.00/11.4M [00:00<?, ?B/s]"
      ]
     },
     "metadata": {},
     "output_type": "display_data"
    },
    {
     "name": "stdout",
     "output_type": "stream",
     "text": [
      "LoRA adapters pushed to https://huggingface.co/Vishva007/Qwen2.5-7B-Instruct-RBI-QA-Adoptor\n"
     ]
    }
   ],
   "source": [
    "\n",
    "model.push_to_hub(MODEL_ADOPTOR_REPO_ID)  # type: ignore\n",
    "\n",
    "tokenizer.push_to_hub(MODEL_ADOPTOR_REPO_ID)\n",
    "\n",
    "print(f\"LoRA adapters pushed to https://huggingface.co/{MODEL_ADOPTOR_REPO_ID}\")"
   ]
  }
 ],
 "metadata": {
  "kernelspec": {
   "display_name": "Python 3 (ipykernel)",
   "language": "python",
   "name": "python3"
  },
  "language_info": {
   "codemirror_mode": {
    "name": "ipython",
    "version": 3
   },
   "file_extension": ".py",
   "mimetype": "text/x-python",
   "name": "python",
   "nbconvert_exporter": "python",
   "pygments_lexer": "ipython3",
   "version": "3.11.13"
  }
 },
 "nbformat": 4,
 "nbformat_minor": 5
}
